{
  "nbformat": 4,
  "nbformat_minor": 0,
  "metadata": {
    "colab": {
      "name": "assig3.ipynb",
      "provenance": [],
      "collapsed_sections": []
    },
    "kernelspec": {
      "name": "python3",
      "display_name": "Python 3"
    },
    "language_info": {
      "name": "python"
    }
  },
  "cells": [
    {
      "cell_type": "code",
      "execution_count": 79,
      "metadata": {
        "id": "bz5MnvSTzyDm"
      },
      "outputs": [],
      "source": [
        "#imports\n",
        "import pandas as pd\n",
        "import numpy as np\n",
        "import math as mat\n",
        "from google.colab import drive\n",
        "import matplotlib.pyplot as plt\n",
        "import seaborn as sns\n",
        "import missingno as msno\n",
        "import tensorflow as tf\n",
        "import statsmodels.api as sm\n"
      ]
    },
    {
      "cell_type": "code",
      "source": [
        "data = pd.read_csv('/content/drive/MyDrive/Colab Notebooks/Houses/raw_house_data.csv')\n"
      ],
      "metadata": {
        "id": "lfnyy1Ltz5Ko"
      },
      "execution_count": 80,
      "outputs": []
    },
    {
      "cell_type": "code",
      "source": [
        "data['garage'].replace('None', np.nan, inplace=True)\n",
        "data['bathrooms'].replace('None', np.nan, inplace=True)\n",
        "data['sqrt_ft'].replace('None', np.nan, inplace=True)\n",
        "data['HOA'].replace('None', np.nan, inplace=True)\n",
        "data['floor_covering'].replace('None', np.nan, inplace=True)\n",
        "data['sold_price'].replace('None', np.nan, inplace=True)\n",
        "data.head(10)"
      ],
      "metadata": {
        "colab": {
          "base_uri": "https://localhost:8080/",
          "height": 826
        },
        "id": "CqQQNQGfz5XI",
        "outputId": "c1c8049f-bd9e-4365-cbe3-33e2d3ad2e62"
      },
      "execution_count": 81,
      "outputs": [
        {
          "output_type": "execute_result",
          "data": {
            "text/plain": [
              "        MLS  sold_price  zipcode   longitude   latitude  lot_acres     taxes  \\\n",
              "0  21530491   5300000.0    85637 -110.378200  31.356362    2154.00   5272.00   \n",
              "1  21529082   4200000.0    85646 -111.045371  31.594213    1707.00  10422.36   \n",
              "2   3054672   4200000.0    85646 -111.040707  31.594844    1707.00  10482.00   \n",
              "3  21919321   4500000.0    85646 -111.035925  31.645878     636.67   8418.58   \n",
              "4  21306357   3411450.0    85750 -110.813768  32.285162       3.21  15393.00   \n",
              "5  21528016   3250000.0    85718 -110.910593  32.339090       1.67  27802.84   \n",
              "6  21610478   2400000.0    85712 -110.883315  32.261069       2.10  19038.42   \n",
              "7  21211741   2500000.0    85750 -110.861002  32.331603       1.07  21646.00   \n",
              "8  21324646   3700000.0    85718 -110.912156  32.343601       6.73  25094.39   \n",
              "9  21812010   3250000.0    85750 -110.837950  32.327575       3.53  18936.11   \n",
              "\n",
              "   year_built  bedrooms bathrooms sqrt_ft garage  \\\n",
              "0        1941        13        10   10500      0   \n",
              "1        1997         2         2    7300      0   \n",
              "2        1997         2         3     NaN    NaN   \n",
              "3        1930         7         5    9019      4   \n",
              "4        1995         4         6    6396      3   \n",
              "5        1999         3         4    6842      3   \n",
              "6        2001         9         8   12025      4   \n",
              "7        2011         6         8    8921      4   \n",
              "8        2002         5         7    5238      3   \n",
              "9        2007         5         6    6480      3   \n",
              "\n",
              "                                    kitchen_features  fireplaces  \\\n",
              "0            Dishwasher, Freezer, Refrigerator, Oven         6.0   \n",
              "1                       Dishwasher, Garbage Disposal         5.0   \n",
              "2         Dishwasher, Garbage Disposal, Refrigerator         5.0   \n",
              "3  Dishwasher, Double Sink, Pantry: Butler, Refri...         4.0   \n",
              "4  Dishwasher, Garbage Disposal, Refrigerator, Mi...         5.0   \n",
              "5  Dishwasher, Garbage Disposal, Refrigerator, Mi...         5.0   \n",
              "6                 Dishwasher, Garbage Disposal, Oven         6.0   \n",
              "7  Compactor, Dishwasher, Freezer, Garbage Dispos...         5.0   \n",
              "8  Compactor, Dishwasher, Freezer, Garbage Dispos...         1.0   \n",
              "9  Dishwasher, Double Sink, Electric Range, Freez...         2.0   \n",
              "\n",
              "                       floor_covering     HOA  \n",
              "0                  Mexican Tile, Wood       0  \n",
              "1                Natural Stone, Other       0  \n",
              "2          Natural Stone, Other: Rock     NaN  \n",
              "3        Ceramic Tile, Laminate, Wood     NaN  \n",
              "4                    Carpet, Concrete      55  \n",
              "5          Natural Stone, Wood, Other     422  \n",
              "6  Carpet, Natural Stone, Wood, Other       0  \n",
              "7         Carpet, Natural Stone, Wood     220  \n",
              "8  Carpet, Natural Stone, Wood, Other     421  \n",
              "9                    Carpet, Concrete  141.67  "
            ],
            "text/html": [
              "\n",
              "  <div id=\"df-4b590148-07c2-4ae2-8efb-001e4705f466\">\n",
              "    <div class=\"colab-df-container\">\n",
              "      <div>\n",
              "<style scoped>\n",
              "    .dataframe tbody tr th:only-of-type {\n",
              "        vertical-align: middle;\n",
              "    }\n",
              "\n",
              "    .dataframe tbody tr th {\n",
              "        vertical-align: top;\n",
              "    }\n",
              "\n",
              "    .dataframe thead th {\n",
              "        text-align: right;\n",
              "    }\n",
              "</style>\n",
              "<table border=\"1\" class=\"dataframe\">\n",
              "  <thead>\n",
              "    <tr style=\"text-align: right;\">\n",
              "      <th></th>\n",
              "      <th>MLS</th>\n",
              "      <th>sold_price</th>\n",
              "      <th>zipcode</th>\n",
              "      <th>longitude</th>\n",
              "      <th>latitude</th>\n",
              "      <th>lot_acres</th>\n",
              "      <th>taxes</th>\n",
              "      <th>year_built</th>\n",
              "      <th>bedrooms</th>\n",
              "      <th>bathrooms</th>\n",
              "      <th>sqrt_ft</th>\n",
              "      <th>garage</th>\n",
              "      <th>kitchen_features</th>\n",
              "      <th>fireplaces</th>\n",
              "      <th>floor_covering</th>\n",
              "      <th>HOA</th>\n",
              "    </tr>\n",
              "  </thead>\n",
              "  <tbody>\n",
              "    <tr>\n",
              "      <th>0</th>\n",
              "      <td>21530491</td>\n",
              "      <td>5300000.0</td>\n",
              "      <td>85637</td>\n",
              "      <td>-110.378200</td>\n",
              "      <td>31.356362</td>\n",
              "      <td>2154.00</td>\n",
              "      <td>5272.00</td>\n",
              "      <td>1941</td>\n",
              "      <td>13</td>\n",
              "      <td>10</td>\n",
              "      <td>10500</td>\n",
              "      <td>0</td>\n",
              "      <td>Dishwasher, Freezer, Refrigerator, Oven</td>\n",
              "      <td>6.0</td>\n",
              "      <td>Mexican Tile, Wood</td>\n",
              "      <td>0</td>\n",
              "    </tr>\n",
              "    <tr>\n",
              "      <th>1</th>\n",
              "      <td>21529082</td>\n",
              "      <td>4200000.0</td>\n",
              "      <td>85646</td>\n",
              "      <td>-111.045371</td>\n",
              "      <td>31.594213</td>\n",
              "      <td>1707.00</td>\n",
              "      <td>10422.36</td>\n",
              "      <td>1997</td>\n",
              "      <td>2</td>\n",
              "      <td>2</td>\n",
              "      <td>7300</td>\n",
              "      <td>0</td>\n",
              "      <td>Dishwasher, Garbage Disposal</td>\n",
              "      <td>5.0</td>\n",
              "      <td>Natural Stone, Other</td>\n",
              "      <td>0</td>\n",
              "    </tr>\n",
              "    <tr>\n",
              "      <th>2</th>\n",
              "      <td>3054672</td>\n",
              "      <td>4200000.0</td>\n",
              "      <td>85646</td>\n",
              "      <td>-111.040707</td>\n",
              "      <td>31.594844</td>\n",
              "      <td>1707.00</td>\n",
              "      <td>10482.00</td>\n",
              "      <td>1997</td>\n",
              "      <td>2</td>\n",
              "      <td>3</td>\n",
              "      <td>NaN</td>\n",
              "      <td>NaN</td>\n",
              "      <td>Dishwasher, Garbage Disposal, Refrigerator</td>\n",
              "      <td>5.0</td>\n",
              "      <td>Natural Stone, Other: Rock</td>\n",
              "      <td>NaN</td>\n",
              "    </tr>\n",
              "    <tr>\n",
              "      <th>3</th>\n",
              "      <td>21919321</td>\n",
              "      <td>4500000.0</td>\n",
              "      <td>85646</td>\n",
              "      <td>-111.035925</td>\n",
              "      <td>31.645878</td>\n",
              "      <td>636.67</td>\n",
              "      <td>8418.58</td>\n",
              "      <td>1930</td>\n",
              "      <td>7</td>\n",
              "      <td>5</td>\n",
              "      <td>9019</td>\n",
              "      <td>4</td>\n",
              "      <td>Dishwasher, Double Sink, Pantry: Butler, Refri...</td>\n",
              "      <td>4.0</td>\n",
              "      <td>Ceramic Tile, Laminate, Wood</td>\n",
              "      <td>NaN</td>\n",
              "    </tr>\n",
              "    <tr>\n",
              "      <th>4</th>\n",
              "      <td>21306357</td>\n",
              "      <td>3411450.0</td>\n",
              "      <td>85750</td>\n",
              "      <td>-110.813768</td>\n",
              "      <td>32.285162</td>\n",
              "      <td>3.21</td>\n",
              "      <td>15393.00</td>\n",
              "      <td>1995</td>\n",
              "      <td>4</td>\n",
              "      <td>6</td>\n",
              "      <td>6396</td>\n",
              "      <td>3</td>\n",
              "      <td>Dishwasher, Garbage Disposal, Refrigerator, Mi...</td>\n",
              "      <td>5.0</td>\n",
              "      <td>Carpet, Concrete</td>\n",
              "      <td>55</td>\n",
              "    </tr>\n",
              "    <tr>\n",
              "      <th>5</th>\n",
              "      <td>21528016</td>\n",
              "      <td>3250000.0</td>\n",
              "      <td>85718</td>\n",
              "      <td>-110.910593</td>\n",
              "      <td>32.339090</td>\n",
              "      <td>1.67</td>\n",
              "      <td>27802.84</td>\n",
              "      <td>1999</td>\n",
              "      <td>3</td>\n",
              "      <td>4</td>\n",
              "      <td>6842</td>\n",
              "      <td>3</td>\n",
              "      <td>Dishwasher, Garbage Disposal, Refrigerator, Mi...</td>\n",
              "      <td>5.0</td>\n",
              "      <td>Natural Stone, Wood, Other</td>\n",
              "      <td>422</td>\n",
              "    </tr>\n",
              "    <tr>\n",
              "      <th>6</th>\n",
              "      <td>21610478</td>\n",
              "      <td>2400000.0</td>\n",
              "      <td>85712</td>\n",
              "      <td>-110.883315</td>\n",
              "      <td>32.261069</td>\n",
              "      <td>2.10</td>\n",
              "      <td>19038.42</td>\n",
              "      <td>2001</td>\n",
              "      <td>9</td>\n",
              "      <td>8</td>\n",
              "      <td>12025</td>\n",
              "      <td>4</td>\n",
              "      <td>Dishwasher, Garbage Disposal, Oven</td>\n",
              "      <td>6.0</td>\n",
              "      <td>Carpet, Natural Stone, Wood, Other</td>\n",
              "      <td>0</td>\n",
              "    </tr>\n",
              "    <tr>\n",
              "      <th>7</th>\n",
              "      <td>21211741</td>\n",
              "      <td>2500000.0</td>\n",
              "      <td>85750</td>\n",
              "      <td>-110.861002</td>\n",
              "      <td>32.331603</td>\n",
              "      <td>1.07</td>\n",
              "      <td>21646.00</td>\n",
              "      <td>2011</td>\n",
              "      <td>6</td>\n",
              "      <td>8</td>\n",
              "      <td>8921</td>\n",
              "      <td>4</td>\n",
              "      <td>Compactor, Dishwasher, Freezer, Garbage Dispos...</td>\n",
              "      <td>5.0</td>\n",
              "      <td>Carpet, Natural Stone, Wood</td>\n",
              "      <td>220</td>\n",
              "    </tr>\n",
              "    <tr>\n",
              "      <th>8</th>\n",
              "      <td>21324646</td>\n",
              "      <td>3700000.0</td>\n",
              "      <td>85718</td>\n",
              "      <td>-110.912156</td>\n",
              "      <td>32.343601</td>\n",
              "      <td>6.73</td>\n",
              "      <td>25094.39</td>\n",
              "      <td>2002</td>\n",
              "      <td>5</td>\n",
              "      <td>7</td>\n",
              "      <td>5238</td>\n",
              "      <td>3</td>\n",
              "      <td>Compactor, Dishwasher, Freezer, Garbage Dispos...</td>\n",
              "      <td>1.0</td>\n",
              "      <td>Carpet, Natural Stone, Wood, Other</td>\n",
              "      <td>421</td>\n",
              "    </tr>\n",
              "    <tr>\n",
              "      <th>9</th>\n",
              "      <td>21812010</td>\n",
              "      <td>3250000.0</td>\n",
              "      <td>85750</td>\n",
              "      <td>-110.837950</td>\n",
              "      <td>32.327575</td>\n",
              "      <td>3.53</td>\n",
              "      <td>18936.11</td>\n",
              "      <td>2007</td>\n",
              "      <td>5</td>\n",
              "      <td>6</td>\n",
              "      <td>6480</td>\n",
              "      <td>3</td>\n",
              "      <td>Dishwasher, Double Sink, Electric Range, Freez...</td>\n",
              "      <td>2.0</td>\n",
              "      <td>Carpet, Concrete</td>\n",
              "      <td>141.67</td>\n",
              "    </tr>\n",
              "  </tbody>\n",
              "</table>\n",
              "</div>\n",
              "      <button class=\"colab-df-convert\" onclick=\"convertToInteractive('df-4b590148-07c2-4ae2-8efb-001e4705f466')\"\n",
              "              title=\"Convert this dataframe to an interactive table.\"\n",
              "              style=\"display:none;\">\n",
              "        \n",
              "  <svg xmlns=\"http://www.w3.org/2000/svg\" height=\"24px\"viewBox=\"0 0 24 24\"\n",
              "       width=\"24px\">\n",
              "    <path d=\"M0 0h24v24H0V0z\" fill=\"none\"/>\n",
              "    <path d=\"M18.56 5.44l.94 2.06.94-2.06 2.06-.94-2.06-.94-.94-2.06-.94 2.06-2.06.94zm-11 1L8.5 8.5l.94-2.06 2.06-.94-2.06-.94L8.5 2.5l-.94 2.06-2.06.94zm10 10l.94 2.06.94-2.06 2.06-.94-2.06-.94-.94-2.06-.94 2.06-2.06.94z\"/><path d=\"M17.41 7.96l-1.37-1.37c-.4-.4-.92-.59-1.43-.59-.52 0-1.04.2-1.43.59L10.3 9.45l-7.72 7.72c-.78.78-.78 2.05 0 2.83L4 21.41c.39.39.9.59 1.41.59.51 0 1.02-.2 1.41-.59l7.78-7.78 2.81-2.81c.8-.78.8-2.07 0-2.86zM5.41 20L4 18.59l7.72-7.72 1.47 1.35L5.41 20z\"/>\n",
              "  </svg>\n",
              "      </button>\n",
              "      \n",
              "  <style>\n",
              "    .colab-df-container {\n",
              "      display:flex;\n",
              "      flex-wrap:wrap;\n",
              "      gap: 12px;\n",
              "    }\n",
              "\n",
              "    .colab-df-convert {\n",
              "      background-color: #E8F0FE;\n",
              "      border: none;\n",
              "      border-radius: 50%;\n",
              "      cursor: pointer;\n",
              "      display: none;\n",
              "      fill: #1967D2;\n",
              "      height: 32px;\n",
              "      padding: 0 0 0 0;\n",
              "      width: 32px;\n",
              "    }\n",
              "\n",
              "    .colab-df-convert:hover {\n",
              "      background-color: #E2EBFA;\n",
              "      box-shadow: 0px 1px 2px rgba(60, 64, 67, 0.3), 0px 1px 3px 1px rgba(60, 64, 67, 0.15);\n",
              "      fill: #174EA6;\n",
              "    }\n",
              "\n",
              "    [theme=dark] .colab-df-convert {\n",
              "      background-color: #3B4455;\n",
              "      fill: #D2E3FC;\n",
              "    }\n",
              "\n",
              "    [theme=dark] .colab-df-convert:hover {\n",
              "      background-color: #434B5C;\n",
              "      box-shadow: 0px 1px 3px 1px rgba(0, 0, 0, 0.15);\n",
              "      filter: drop-shadow(0px 1px 2px rgba(0, 0, 0, 0.3));\n",
              "      fill: #FFFFFF;\n",
              "    }\n",
              "  </style>\n",
              "\n",
              "      <script>\n",
              "        const buttonEl =\n",
              "          document.querySelector('#df-4b590148-07c2-4ae2-8efb-001e4705f466 button.colab-df-convert');\n",
              "        buttonEl.style.display =\n",
              "          google.colab.kernel.accessAllowed ? 'block' : 'none';\n",
              "\n",
              "        async function convertToInteractive(key) {\n",
              "          const element = document.querySelector('#df-4b590148-07c2-4ae2-8efb-001e4705f466');\n",
              "          const dataTable =\n",
              "            await google.colab.kernel.invokeFunction('convertToInteractive',\n",
              "                                                     [key], {});\n",
              "          if (!dataTable) return;\n",
              "\n",
              "          const docLinkHtml = 'Like what you see? Visit the ' +\n",
              "            '<a target=\"_blank\" href=https://colab.research.google.com/notebooks/data_table.ipynb>data table notebook</a>'\n",
              "            + ' to learn more about interactive tables.';\n",
              "          element.innerHTML = '';\n",
              "          dataTable['output_type'] = 'display_data';\n",
              "          await google.colab.output.renderOutput(dataTable, element);\n",
              "          const docLink = document.createElement('div');\n",
              "          docLink.innerHTML = docLinkHtml;\n",
              "          element.appendChild(docLink);\n",
              "        }\n",
              "      </script>\n",
              "    </div>\n",
              "  </div>\n",
              "  "
            ]
          },
          "metadata": {},
          "execution_count": 81
        }
      ]
    },
    {
      "cell_type": "code",
      "source": [
        "data[\"sqrt_ft\"] = data.sqrt_ft.astype(float)\n",
        "data[\"bathrooms\"] = data.bathrooms.astype(float)\n",
        "data[\"year_built\"] = data.year_built.astype(int)\n",
        "data[\"garage\"] = data.garage.astype(float)\n",
        "data['HOA'] = data['HOA'].replace(',','', regex=True)\n",
        "data[\"HOA\"] = data.HOA.astype(float)"
      ],
      "metadata": {
        "id": "bCg7FbRS0LE9"
      },
      "execution_count": 82,
      "outputs": []
    },
    {
      "cell_type": "code",
      "source": [
        "data.dtypes"
      ],
      "metadata": {
        "colab": {
          "base_uri": "https://localhost:8080/",
          "height": 0
        },
        "id": "bhR_kehIEgKq",
        "outputId": "017aa120-f8a0-4c1c-f61b-713a8a888197"
      },
      "execution_count": 83,
      "outputs": [
        {
          "output_type": "execute_result",
          "data": {
            "text/plain": [
              "MLS                   int64\n",
              "sold_price          float64\n",
              "zipcode               int64\n",
              "longitude           float64\n",
              "latitude            float64\n",
              "lot_acres           float64\n",
              "taxes               float64\n",
              "year_built            int64\n",
              "bedrooms              int64\n",
              "bathrooms           float64\n",
              "sqrt_ft             float64\n",
              "garage              float64\n",
              "kitchen_features     object\n",
              "fireplaces          float64\n",
              "floor_covering       object\n",
              "HOA                 float64\n",
              "dtype: object"
            ]
          },
          "metadata": {},
          "execution_count": 83
        }
      ]
    },
    {
      "cell_type": "code",
      "source": [
        "data['HOA'] = data['HOA'].fillna(data['HOA'].median())\n",
        "data['sqrt_ft'] = data['sqrt_ft'].fillna(data['sqrt_ft'].median())\n",
        "data.isna().sum()"
      ],
      "metadata": {
        "colab": {
          "base_uri": "https://localhost:8080/",
          "height": 0
        },
        "id": "UpYOa7ZE0VRO",
        "outputId": "8ec5e523-0050-4d02-8bd7-dbfa9e57c126"
      },
      "execution_count": 84,
      "outputs": [
        {
          "output_type": "execute_result",
          "data": {
            "text/plain": [
              "MLS                  0\n",
              "sold_price           0\n",
              "zipcode              0\n",
              "longitude            0\n",
              "latitude             0\n",
              "lot_acres           10\n",
              "taxes                0\n",
              "year_built           0\n",
              "bedrooms             0\n",
              "bathrooms            6\n",
              "sqrt_ft              0\n",
              "garage               7\n",
              "kitchen_features     0\n",
              "fireplaces          25\n",
              "floor_covering       1\n",
              "HOA                  0\n",
              "dtype: int64"
            ]
          },
          "metadata": {},
          "execution_count": 84
        }
      ]
    },
    {
      "cell_type": "code",
      "source": [
        "df = data"
      ],
      "metadata": {
        "id": "EBBog1guz5Y-"
      },
      "execution_count": 85,
      "outputs": []
    },
    {
      "cell_type": "code",
      "source": [
        "df = df.dropna()"
      ],
      "metadata": {
        "id": "BpZYozxUi0qb"
      },
      "execution_count": 86,
      "outputs": []
    },
    {
      "cell_type": "code",
      "source": [
        "df['year_built'].min()"
      ],
      "metadata": {
        "colab": {
          "base_uri": "https://localhost:8080/",
          "height": 0
        },
        "id": "rTCuRa8xCSNi",
        "outputId": "bbf24c6f-edf6-454d-f348-11d40f660ffd"
      },
      "execution_count": 87,
      "outputs": [
        {
          "output_type": "execute_result",
          "data": {
            "text/plain": [
              "0"
            ]
          },
          "metadata": {},
          "execution_count": 87
        }
      ]
    },
    {
      "cell_type": "code",
      "source": [
        "df= df[df['year_built'] != 0]"
      ],
      "metadata": {
        "id": "dYygH4kdFAN8"
      },
      "execution_count": 88,
      "outputs": []
    },
    {
      "cell_type": "code",
      "source": [
        "df['year_built'].min()\n"
      ],
      "metadata": {
        "colab": {
          "base_uri": "https://localhost:8080/",
          "height": 0
        },
        "id": "R6gDEj1TEWao",
        "outputId": "bd68dd1d-37e5-44d2-b636-5de03eb98b9a"
      },
      "execution_count": 89,
      "outputs": [
        {
          "output_type": "execute_result",
          "data": {
            "text/plain": [
              "1893"
            ]
          },
          "metadata": {},
          "execution_count": 89
        }
      ]
    },
    {
      "cell_type": "code",
      "source": [
        "df['year_built'].max()"
      ],
      "metadata": {
        "colab": {
          "base_uri": "https://localhost:8080/",
          "height": 0
        },
        "id": "Ib82CzfLEYXF",
        "outputId": "128e152c-5d83-419f-8afa-d827441b55a2"
      },
      "execution_count": 90,
      "outputs": [
        {
          "output_type": "execute_result",
          "data": {
            "text/plain": [
              "2019"
            ]
          },
          "metadata": {},
          "execution_count": 90
        }
      ]
    },
    {
      "cell_type": "code",
      "source": [
        ""
      ],
      "metadata": {
        "id": "HQp9R_skw5qn"
      },
      "execution_count": 90,
      "outputs": []
    },
    {
      "cell_type": "markdown",
      "source": [
        "###We create 4 categories base on the marketing for houses"
      ],
      "metadata": {
        "id": "pk4sPQ1dF0oH"
      }
    },
    {
      "cell_type": "code",
      "source": [
        "dfA = df[df['year_built'] >= 2007]\n",
        "dfA.shape"
      ],
      "metadata": {
        "colab": {
          "base_uri": "https://localhost:8080/",
          "height": 0
        },
        "id": "csnU7ALLFzJv",
        "outputId": "5d23d281-8361-488a-9569-ad695210e046"
      },
      "execution_count": 91,
      "outputs": [
        {
          "output_type": "execute_result",
          "data": {
            "text/plain": [
              "(1021, 16)"
            ]
          },
          "metadata": {},
          "execution_count": 91
        }
      ]
    },
    {
      "cell_type": "code",
      "source": [
        "dfA.hist()"
      ],
      "metadata": {
        "colab": {
          "base_uri": "https://localhost:8080/",
          "height": 589
        },
        "id": "o374xZcOH4Ui",
        "outputId": "6be8a115-aa77-4b38-c469-dda6854c1b8c"
      },
      "execution_count": 92,
      "outputs": [
        {
          "output_type": "execute_result",
          "data": {
            "text/plain": [
              "array([[<matplotlib.axes._subplots.AxesSubplot object at 0x7f5d8c0720d0>,\n",
              "        <matplotlib.axes._subplots.AxesSubplot object at 0x7f5d8c085f50>,\n",
              "        <matplotlib.axes._subplots.AxesSubplot object at 0x7f5d8fce2950>,\n",
              "        <matplotlib.axes._subplots.AxesSubplot object at 0x7f5d8fc94b90>],\n",
              "       [<matplotlib.axes._subplots.AxesSubplot object at 0x7f5d8fa53510>,\n",
              "        <matplotlib.axes._subplots.AxesSubplot object at 0x7f5d8ccadc10>,\n",
              "        <matplotlib.axes._subplots.AxesSubplot object at 0x7f5d8bf6b190>,\n",
              "        <matplotlib.axes._subplots.AxesSubplot object at 0x7f5d8bf216d0>],\n",
              "       [<matplotlib.axes._subplots.AxesSubplot object at 0x7f5d8bf21710>,\n",
              "        <matplotlib.axes._subplots.AxesSubplot object at 0x7f5d8bf56e10>,\n",
              "        <matplotlib.axes._subplots.AxesSubplot object at 0x7f5d8bed1950>,\n",
              "        <matplotlib.axes._subplots.AxesSubplot object at 0x7f5d8be88f50>],\n",
              "       [<matplotlib.axes._subplots.AxesSubplot object at 0x7f5d8be4c590>,\n",
              "        <matplotlib.axes._subplots.AxesSubplot object at 0x7f5d8be02b90>,\n",
              "        <matplotlib.axes._subplots.AxesSubplot object at 0x7f5d8bdc51d0>,\n",
              "        <matplotlib.axes._subplots.AxesSubplot object at 0x7f5d8bd7d7d0>]],\n",
              "      dtype=object)"
            ]
          },
          "metadata": {},
          "execution_count": 92
        },
        {
          "output_type": "display_data",
          "data": {
            "text/plain": [
              "<Figure size 432x288 with 16 Axes>"
            ],
            "image/png": "[encoded data removed]"
          },
          "metadata": {
            "needs_background": "light"
          }
        }
      ]
    },
    {
      "cell_type": "code",
      "source": [
        "sns.heatmap(dfA.corr())"
      ],
      "metadata": {
        "colab": {
          "base_uri": "https://localhost:8080/",
          "height": 331
        },
        "id": "0eVKt3-1G_uy",
        "outputId": "4e71ead7-35c5-40ce-c2cd-f4a4c8c6ad8a"
      },
      "execution_count": 93,
      "outputs": [
        {
          "output_type": "execute_result",
          "data": {
            "text/plain": [
              "<matplotlib.axes._subplots.AxesSubplot at 0x7f5d8bb93e10>"
            ]
          },
          "metadata": {},
          "execution_count": 93
        },
        {
          "output_type": "display_data",
          "data": {
            "text/plain": [
              "<Figure size 432x288 with 2 Axes>"
            ],
            "image/png": "[encoded data removed]"
          },
          "metadata": {
            "needs_background": "light"
          }
        }
      ]
    },
    {
      "cell_type": "code",
      "source": [
        "test = dfA.loc(axis=1)['sold_price','taxes','sqrt_ft']"
      ],
      "metadata": {
        "id": "G8wnGDNFjuSc"
      },
      "execution_count": 94,
      "outputs": []
    },
    {
      "cell_type": "code",
      "source": [
        "test.dtypes"
      ],
      "metadata": {
        "colab": {
          "base_uri": "https://localhost:8080/",
          "height": 0
        },
        "id": "620zK5Vmn72h",
        "outputId": "a70b2d10-d3f7-4ebf-f8be-288a92cf2648"
      },
      "execution_count": 95,
      "outputs": [
        {
          "output_type": "execute_result",
          "data": {
            "text/plain": [
              "sold_price    float64\n",
              "taxes         float64\n",
              "sqrt_ft       float64\n",
              "dtype: object"
            ]
          },
          "metadata": {},
          "execution_count": 95
        }
      ]
    },
    {
      "cell_type": "code",
      "source": [
        ""
      ],
      "metadata": {
        "id": "7shXO6OCnkMh"
      },
      "execution_count": 95,
      "outputs": []
    },
    {
      "cell_type": "code",
      "source": [
        ""
      ],
      "metadata": {
        "id": "K_wBcaj3nyjC"
      },
      "execution_count": 95,
      "outputs": []
    },
    {
      "cell_type": "code",
      "source": [
        "# Shuffle your dataset \n",
        "shuffle_df = test.sample(frac=1)\n",
        "\n",
        "# Define a size for your train set \n",
        "train_size = int(0.7 * len(test))\n",
        "\n",
        "# Split your dataset \n",
        "train_datar = shuffle_df[:train_size]\n",
        "test_datar = shuffle_df[train_size:]"
      ],
      "metadata": {
        "id": "YSiflxWIkGuH"
      },
      "execution_count": 96,
      "outputs": []
    },
    {
      "cell_type": "code",
      "source": [
        "train_datar = train_datar.to_numpy()\n",
        "test_datar = test_datar.to_numpy()"
      ],
      "metadata": {
        "id": "RXPsuWbHk-KU"
      },
      "execution_count": 97,
      "outputs": []
    },
    {
      "cell_type": "code",
      "source": [
        "x,y = train_datar[:,1:],train_datar[:,0]\n",
        "xt, yt = test_datar[:,1:], test_datar[:,0]"
      ],
      "metadata": {
        "id": "dk3b4-_ukv_x"
      },
      "execution_count": 98,
      "outputs": []
    },
    {
      "cell_type": "code",
      "source": [
        "x.shape"
      ],
      "metadata": {
        "colab": {
          "base_uri": "https://localhost:8080/",
          "height": 0
        },
        "id": "nYR6zJgFzi-I",
        "outputId": "99a1baa3-69de-44da-8793-9fe1a67d2767"
      },
      "execution_count": 99,
      "outputs": [
        {
          "output_type": "execute_result",
          "data": {
            "text/plain": [
              "(714, 2)"
            ]
          },
          "metadata": {},
          "execution_count": 99
        }
      ]
    },
    {
      "cell_type": "code",
      "source": [
        "model = sm.OLS(y,x)\n",
        "results = model.fit()"
      ],
      "metadata": {
        "id": "LVqfBmgTmpdD"
      },
      "execution_count": 100,
      "outputs": []
    },
    {
      "cell_type": "code",
      "source": [
        "print(results.summary())"
      ],
      "metadata": {
        "colab": {
          "base_uri": "https://localhost:8080/",
          "height": 0
        },
        "id": "QaxeJHfGx-CS",
        "outputId": "e4aeb53f-9a6f-4a5d-a0ca-c15e18e85a8a"
      },
      "execution_count": 101,
      "outputs": [
        {
          "output_type": "stream",
          "name": "stdout",
          "text": [
            "                                 OLS Regression Results                                \n",
            "=======================================================================================\n",
            "Dep. Variable:                      y   R-squared (uncentered):                   0.886\n",
            "Model:                            OLS   Adj. R-squared (uncentered):              0.886\n",
            "Method:                 Least Squares   F-statistic:                              2776.\n",
            "Date:                Tue, 30 Aug 2022   Prob (F-statistic):                        0.00\n",
            "Time:                        03:54:36   Log-Likelihood:                         -10073.\n",
            "No. Observations:                 714   AIC:                                  2.015e+04\n",
            "Df Residuals:                     712   BIC:                                  2.016e+04\n",
            "Df Model:                           2                                                  \n",
            "Covariance Type:            nonrobust                                                  \n",
            "==============================================================================\n",
            "                 coef    std err          t      P>|t|      [0.025      0.975]\n",
            "------------------------------------------------------------------------------\n",
            "x1            18.9553      2.890      6.558      0.000      13.280      24.630\n",
            "x2           200.4252      6.126     32.717      0.000     188.398     212.452\n",
            "==============================================================================\n",
            "Omnibus:                      203.669   Durbin-Watson:                   1.979\n",
            "Prob(Omnibus):                  0.000   Jarque-Bera (JB):              883.916\n",
            "Skew:                           1.247   Prob(JB):                    1.15e-192\n",
            "Kurtosis:                       7.847   Cond. No.                         4.81\n",
            "==============================================================================\n",
            "\n",
            "Notes:\n",
            "[1] R² is computed without centering (uncentered) since the model does not contain a constant.\n",
            "[2] Standard Errors assume that the covariance matrix of the errors is correctly specified.\n"
          ]
        }
      ]
    },
    {
      "cell_type": "code",
      "source": [
        "Pricepersqrtf = df['sold_price']/df['sqrt_ft']\n",
        "Pricepersqrtf"
      ],
      "metadata": {
        "colab": {
          "base_uri": "https://localhost:8080/",
          "height": 0
        },
        "id": "QvLusdx0Jjra",
        "outputId": "8a6080c1-abf1-40c0-85f6-d0a60fdfdc10"
      },
      "execution_count": 102,
      "outputs": [
        {
          "output_type": "execute_result",
          "data": {
            "text/plain": [
              "0       504.761905\n",
              "1       575.342466\n",
              "3       498.946668\n",
              "4       533.372420\n",
              "5       475.007308\n",
              "           ...    \n",
              "4994    254.036087\n",
              "4995    137.461816\n",
              "4996    237.273512\n",
              "4997    268.058691\n",
              "4998    147.690655\n",
              "Length: 4961, dtype: float64"
            ]
          },
          "metadata": {},
          "execution_count": 102
        }
      ]
    },
    {
      "cell_type": "code",
      "source": [
        "taxesperm = df['taxes']/12\n",
        "taxesperm"
      ],
      "metadata": {
        "colab": {
          "base_uri": "https://localhost:8080/",
          "height": 0
        },
        "id": "XHjVDUaRBv50",
        "outputId": "a3714f84-4bfa-450f-d16c-cade7b711175"
      },
      "execution_count": 103,
      "outputs": [
        {
          "output_type": "execute_result",
          "data": {
            "text/plain": [
              "0        439.333333\n",
              "1        868.530000\n",
              "3        701.548333\n",
              "4       1282.750000\n",
              "5       2316.903333\n",
              "           ...     \n",
              "4994     367.833333\n",
              "4995     168.083333\n",
              "4996     401.834167\n",
              "4997      83.333333\n",
              "4998     485.244167\n",
              "Name: taxes, Length: 4961, dtype: float64"
            ]
          },
          "metadata": {},
          "execution_count": 103
        }
      ]
    },
    {
      "cell_type": "markdown",
      "source": [
        "taxes per month, number of rooms, +- score and recomendations"
      ],
      "metadata": {
        "id": "es2gnialBgbV"
      }
    },
    {
      "cell_type": "code",
      "source": [
        "df['Pricesqrt'] = Pricepersqrtf"
      ],
      "metadata": {
        "id": "pDZw15JxKIJg"
      },
      "execution_count": 104,
      "outputs": []
    },
    {
      "cell_type": "code",
      "source": [
        "df['Pricesqrt'].nunique()"
      ],
      "metadata": {
        "colab": {
          "base_uri": "https://localhost:8080/",
          "height": 0
        },
        "id": "xzBVtBVVCnMM",
        "outputId": "80d5ec12-7cac-4d43-ed71-66b9ecdcfb08"
      },
      "execution_count": 105,
      "outputs": [
        {
          "output_type": "execute_result",
          "data": {
            "text/plain": [
              "4816"
            ]
          },
          "metadata": {},
          "execution_count": 105
        }
      ]
    },
    {
      "cell_type": "code",
      "source": [
        "fig = plt.figure(figsize = (15,10))\n",
        "ax = fig.gca()\n",
        "\n",
        "df['Pricesqrt'].hist(ax=ax,bins=100)"
      ],
      "metadata": {
        "colab": {
          "base_uri": "https://localhost:8080/",
          "height": 610
        },
        "id": "7CWbbBxbDDhZ",
        "outputId": "22da186e-9b41-4842-8dc2-9571fb7a8a19"
      },
      "execution_count": 106,
      "outputs": [
        {
          "output_type": "execute_result",
          "data": {
            "text/plain": [
              "<matplotlib.axes._subplots.AxesSubplot at 0x7f5d8b9c1510>"
            ]
          },
          "metadata": {},
          "execution_count": 106
        },
        {
          "output_type": "display_data",
          "data": {
            "text/plain": [
              "<Figure size 1080x720 with 1 Axes>"
            ],
            "image/png": "[encoded data removed]"
          },
          "metadata": {
            "needs_background": "light"
          }
        }
      ]
    },
    {
      "cell_type": "code",
      "source": [
        "def transform(x):\n",
        "  if x >= 0 and x <=150:\n",
        "    return 1\n",
        "  if x >=151 and x <=250:\n",
        "    return 2\n",
        "  if x >= 251 and x <=350:\n",
        "    return 3\n",
        "  if x >= 351 and x <= 450:\n",
        "    return 4\n",
        "  if x >= 451:\n",
        "    return 5\n",
        "\n"
      ],
      "metadata": {
        "id": "Ixkh7nr9O_z7"
      },
      "execution_count": 107,
      "outputs": []
    },
    {
      "cell_type": "code",
      "source": [
        "def transform(x):\n",
        "  if x >= 0 and x <=150:\n",
        "    return 1\n",
        "  if x >=151 and x <=250:\n",
        "    return 2\n",
        "  if x >= 251 and x <=350:\n",
        "    return 3\n",
        "  if x >= 351:\n",
        "    return 4\n",
        "\n"
      ],
      "metadata": {
        "id": "8u3mpEBu2rr4"
      },
      "execution_count": 108,
      "outputs": []
    },
    {
      "cell_type": "code",
      "source": [
        "df[\"Pricesqrt\"] = df['Pricesqrt'].map(transform)"
      ],
      "metadata": {
        "id": "-by2SbMxPzWL"
      },
      "execution_count": 109,
      "outputs": []
    },
    {
      "cell_type": "code",
      "source": [
        "class KNNClassifier():\n",
        "  def fit(self, X, y):\n",
        "    self.X = X\n",
        "    self.y =y.astype(int)\n",
        "  def predict(self,X, k, epsilon=1e-4):\n",
        "    N = len(X)\n",
        "    y_hat = np.zeros(N)\n",
        "    \n",
        "    for i in range(N):\n",
        "      dist2 = np.sum((self.X-X[i])**2,axis=1)\n",
        "      idxt = np.argsort(dist2)[:k]\n",
        "      gamma_k = 1/(np.sqrt(dist2[idxt]+epsilon))\n",
        "      y_hat[i] = np.bincount(self.y[idxt], weights =gamma_k).argmax()\n",
        "    return y_hat"
      ],
      "metadata": {
        "id": "ZUyyhcsu6anC"
      },
      "execution_count": 110,
      "outputs": []
    },
    {
      "cell_type": "code",
      "source": [
        "def accuracy(y, y_hat):\n",
        "  return np.mean(y==y_hat)\n"
      ],
      "metadata": {
        "id": "hDsegG-965ut"
      },
      "execution_count": 111,
      "outputs": []
    },
    {
      "cell_type": "code",
      "source": [
        "sns.heatmap(df.corr())"
      ],
      "metadata": {
        "colab": {
          "base_uri": "https://localhost:8080/",
          "height": 331
        },
        "id": "8CMI9XTZ7Buj",
        "outputId": "850de97c-8d83-4f8d-841d-46b45ffb1b87"
      },
      "execution_count": 112,
      "outputs": [
        {
          "output_type": "execute_result",
          "data": {
            "text/plain": [
              "<matplotlib.axes._subplots.AxesSubplot at 0x7f5d8ba1f110>"
            ]
          },
          "metadata": {},
          "execution_count": 112
        },
        {
          "output_type": "display_data",
          "data": {
            "text/plain": [
              "<Figure size 432x288 with 2 Axes>"
            ],
            "image/png": "[encoded data removed]"
          },
          "metadata": {
            "needs_background": "light"
          }
        }
      ]
    },
    {
      "cell_type": "code",
      "source": [
        "datclass = df.loc[:,['longitude','latitude','Pricesqrt','bathrooms','bedrooms']]\n",
        "datclass.isna().sum()\n"
      ],
      "metadata": {
        "colab": {
          "base_uri": "https://localhost:8080/",
          "height": 0
        },
        "id": "Es1fAqV77OEz",
        "outputId": "0cc540a5-5c34-4f29-d2d6-84f2f2b7794f"
      },
      "execution_count": 113,
      "outputs": [
        {
          "output_type": "execute_result",
          "data": {
            "text/plain": [
              "longitude     0\n",
              "latitude      0\n",
              "Pricesqrt    36\n",
              "bathrooms     0\n",
              "bedrooms      0\n",
              "dtype: int64"
            ]
          },
          "metadata": {},
          "execution_count": 113
        }
      ]
    },
    {
      "cell_type": "code",
      "source": [
        "datclass = datclass.dropna()"
      ],
      "metadata": {
        "id": "Y9Yc-SAKQ8z7"
      },
      "execution_count": 114,
      "outputs": []
    },
    {
      "cell_type": "code",
      "source": [
        "datclass.isna().sum()"
      ],
      "metadata": {
        "colab": {
          "base_uri": "https://localhost:8080/",
          "height": 0
        },
        "id": "8_1ldF9a-Z2y",
        "outputId": "1096c94f-89e7-4205-8f23-831c5038557c"
      },
      "execution_count": 115,
      "outputs": [
        {
          "output_type": "execute_result",
          "data": {
            "text/plain": [
              "longitude    0\n",
              "latitude     0\n",
              "Pricesqrt    0\n",
              "bathrooms    0\n",
              "bedrooms     0\n",
              "dtype: int64"
            ]
          },
          "metadata": {},
          "execution_count": 115
        }
      ]
    },
    {
      "cell_type": "code",
      "source": [
        "from math import radians, cos, sin, asin, sqrt\n",
        "\n",
        "def single_pt_haversine(lat, lng, degrees=True):\n",
        "    \"\"\"\n",
        "    'Single-point' Haversine: Calculates the great circle distance\n",
        "    between a point on Earth and the (0, 0) lat-long coordinate\n",
        "    \"\"\"\n",
        "    r = 6371 # Earth's radius (km). Have r = 3956 if you want miles\n",
        "\n",
        "    # Convert decimal degrees to radians\n",
        "    if degrees:\n",
        "        lat, lng = map(radians, [lat, lng])\n",
        "\n",
        "    # 'Single-point' Haversine formula\n",
        "    a = sin(lat/2)**2 + cos(lat) * sin(lng/2)**2\n",
        "    d = 2 * r * asin(sqrt(a)) \n",
        "\n",
        "    return d"
      ],
      "metadata": {
        "id": "nbJOU0-jaKwk"
      },
      "execution_count": 116,
      "outputs": []
    },
    {
      "cell_type": "code",
      "source": [
        "datclass['coor'] = datclass.apply(lambda x: single_pt_haversine(lat = x['latitude'], lng = x['longitude']), axis=1)"
      ],
      "metadata": {
        "id": "bYZhGYBVaMSj"
      },
      "execution_count": 117,
      "outputs": []
    },
    {
      "cell_type": "code",
      "source": [
        "datclass['coor'].head()"
      ],
      "metadata": {
        "colab": {
          "base_uri": "https://localhost:8080/",
          "height": 0
        },
        "id": "VU81x6Nqasbs",
        "outputId": "1c4be5eb-e95c-416f-d389-42b468a42274"
      },
      "execution_count": 118,
      "outputs": [
        {
          "output_type": "execute_result",
          "data": {
            "text/plain": [
              "0    11931.100535\n",
              "1    11988.050359\n",
              "3    11986.037832\n",
              "4    11951.394495\n",
              "5    11959.113631\n",
              "Name: coor, dtype: float64"
            ]
          },
          "metadata": {},
          "execution_count": 118
        }
      ]
    },
    {
      "cell_type": "code",
      "source": [
        "datclass = datclass.loc[:,['coor','bedrooms','bathrooms','Pricesqrt']]"
      ],
      "metadata": {
        "id": "pd_suK2cbFfH"
      },
      "execution_count": 119,
      "outputs": []
    },
    {
      "cell_type": "code",
      "source": [
        "def absolute_maximum_scale(series):\n",
        "    return series / series.abs().max()\n",
        "  "
      ],
      "metadata": {
        "id": "nUXpzyZir63W"
      },
      "execution_count": 120,
      "outputs": []
    },
    {
      "cell_type": "code",
      "source": [
        "datclass['coor'] = (datclass['coor']-datclass['coor'].min())/(datclass['coor'].max()-datclass['coor'].min())"
      ],
      "metadata": {
        "id": "rMErspc9sKKI"
      },
      "execution_count": 121,
      "outputs": []
    },
    {
      "cell_type": "code",
      "source": [
        "# Shuffle your dataset \n",
        "shuffle_df = datclass.sample(frac=1)\n",
        "\n",
        "# Define a size for your train set \n",
        "train_size = int(0.9 * len(datclass))\n",
        "\n",
        "# Split your dataset \n",
        "train_dataknn = shuffle_df[:train_size]\n",
        "test_dataknn = shuffle_df[train_size:]"
      ],
      "metadata": {
        "id": "t0es9OxCTGIA"
      },
      "execution_count": 122,
      "outputs": []
    },
    {
      "cell_type": "code",
      "source": [
        "train_dataknn = train_dataknn.to_numpy()\n",
        "test_dataknn = test_dataknn.to_numpy()"
      ],
      "metadata": {
        "id": "pqbBPKl-93mS"
      },
      "execution_count": 123,
      "outputs": []
    },
    {
      "cell_type": "code",
      "source": [
        "train_dataknn\n"
      ],
      "metadata": {
        "colab": {
          "base_uri": "https://localhost:8080/",
          "height": 0
        },
        "id": "-pW5Ve6r8pyw",
        "outputId": "c430e1af-1355-436e-dbd3-c79bb62b2aeb"
      },
      "execution_count": 124,
      "outputs": [
        {
          "output_type": "execute_result",
          "data": {
            "text/plain": [
              "array([[0.55906289, 5.        , 4.        , 2.        ],\n",
              "       [0.68101563, 4.        , 3.        , 2.        ],\n",
              "       [0.59895059, 3.        , 3.        , 2.        ],\n",
              "       ...,\n",
              "       [0.60613837, 3.        , 3.        , 3.        ],\n",
              "       [0.60217234, 5.        , 3.        , 2.        ],\n",
              "       [0.56994026, 3.        , 3.        , 2.        ]])"
            ]
          },
          "metadata": {},
          "execution_count": 124
        }
      ]
    },
    {
      "cell_type": "code",
      "source": [
        "x = train_dataknn[:,:3]\n",
        "y =  train_dataknn[:,-1]"
      ],
      "metadata": {
        "id": "hqRW1aprUV1A"
      },
      "execution_count": 125,
      "outputs": []
    },
    {
      "cell_type": "code",
      "source": [
        "xtest= test_dataknn[:,:3] \n",
        "ytest = test_dataknn[:,-1]"
      ],
      "metadata": {
        "id": "pwuQtz2z9baG"
      },
      "execution_count": 126,
      "outputs": []
    },
    {
      "cell_type": "code",
      "source": [
        "modelknn = KNNClassifier()"
      ],
      "metadata": {
        "id": "IS98RQY_882h"
      },
      "execution_count": 127,
      "outputs": []
    },
    {
      "cell_type": "code",
      "source": [
        "modelknn.fit(x,y)"
      ],
      "metadata": {
        "id": "F_MCDQkN9QOi"
      },
      "execution_count": 128,
      "outputs": []
    },
    {
      "cell_type": "code",
      "source": [
        "y_hat = modelknn.predict(xtest,20)\n"
      ],
      "metadata": {
        "id": "LZyQGWMe9YGY"
      },
      "execution_count": 129,
      "outputs": []
    },
    {
      "cell_type": "code",
      "source": [
        "accuracy(ytest,y_hat)"
      ],
      "metadata": {
        "colab": {
          "base_uri": "https://localhost:8080/",
          "height": 0
        },
        "id": "jc1HXAoW9YIN",
        "outputId": "c50994ee-cccf-4487-9a58-ce93e57dccf2"
      },
      "execution_count": 131,
      "outputs": [
        {
          "output_type": "execute_result",
          "data": {
            "text/plain": [
              "0.7647058823529411"
            ]
          },
          "metadata": {},
          "execution_count": 131
        }
      ]
    },
    {
      "cell_type": "code",
      "source": [
        "unique, counts = np.unique(y_hat, return_counts=True)\n",
        "\n",
        "result = np.column_stack((unique, counts)) \n",
        "print (result.round(2))"
      ],
      "metadata": {
        "colab": {
          "base_uri": "https://localhost:8080/",
          "height": 0
        },
        "id": "B_b88Tp5a_jc",
        "outputId": "8b7e4cfa-0b2d-4925-8d96-f277c2842b02"
      },
      "execution_count": 132,
      "outputs": [
        {
          "output_type": "stream",
          "name": "stdout",
          "text": [
            "[[  1.   7.]\n",
            " [  2. 467.]\n",
            " [  3.  13.]\n",
            " [  4.   6.]]\n"
          ]
        }
      ]
    },
    {
      "cell_type": "markdown",
      "source": [
        "###Price for Airbnb"
      ],
      "metadata": {
        "id": "akIBrnzZve6N"
      }
    },
    {
      "cell_type": "markdown",
      "source": [
        "For this section, it was estimated the possible price base on quantity of bedroom and the area where they are found "
      ],
      "metadata": {
        "id": "pRJ2XF6EwUhp"
      }
    },
    {
      "cell_type": "code",
      "source": [
        "gendat = datclass.to_numpy()\n",
        "xknn = gendat[:,:3]\n",
        "xknn"
      ],
      "metadata": {
        "colab": {
          "base_uri": "https://localhost:8080/",
          "height": 0
        },
        "id": "eWvTYiplxP5m",
        "outputId": "8281de81-64be-4d36-daeb-6d01869321a2"
      },
      "execution_count": 137,
      "outputs": [
        {
          "output_type": "execute_result",
          "data": {
            "text/plain": [
              "array([[ 0.4898821 , 13.        , 10.        ],\n",
              "       [ 0.7504651 ,  2.        ,  2.        ],\n",
              "       [ 0.74125647,  7.        ,  5.        ],\n",
              "       ...,\n",
              "       [ 0.59845064,  4.        ,  3.        ],\n",
              "       [ 0.4889346 ,  3.        ,  2.        ],\n",
              "       [ 0.68342353,  4.        ,  4.        ]])"
            ]
          },
          "metadata": {},
          "execution_count": 137
        }
      ]
    },
    {
      "cell_type": "code",
      "source": [
        "y_ultknn = modelknn.predict(xknn,15)"
      ],
      "metadata": {
        "id": "_h7-1qaMxg5m"
      },
      "execution_count": 138,
      "outputs": []
    },
    {
      "cell_type": "code",
      "source": [
        "add = datclass\n",
        "add['ClassPred'] = y_ultknn"
      ],
      "metadata": {
        "id": "PeqrEfRRzAzJ"
      },
      "execution_count": 139,
      "outputs": []
    },
    {
      "cell_type": "code",
      "source": [
        "add.head()"
      ],
      "metadata": {
        "colab": {
          "base_uri": "https://localhost:8080/",
          "height": 206
        },
        "id": "bKkgy5Nl3NME",
        "outputId": "861df669-7d6f-42a2-e231-e4c437a6c7bd"
      },
      "execution_count": 140,
      "outputs": [
        {
          "output_type": "execute_result",
          "data": {
            "text/plain": [
              "       coor  bedrooms  bathrooms  Pricesqrt  ClassPred\n",
              "0  0.489882        13       10.0        4.0        4.0\n",
              "1  0.750465         2        2.0        4.0        4.0\n",
              "3  0.741256         7        5.0        4.0        4.0\n",
              "4  0.582740         4        6.0        4.0        2.0\n",
              "5  0.618060         3        4.0        4.0        2.0"
            ],
            "text/html": [
              "\n",
              "  <div id=\"df-1d041aff-a3cc-4666-a144-e59d2c6b9618\">\n",
              "    <div class=\"colab-df-container\">\n",
              "      <div>\n",
              "<style scoped>\n",
              "    .dataframe tbody tr th:only-of-type {\n",
              "        vertical-align: middle;\n",
              "    }\n",
              "\n",
              "    .dataframe tbody tr th {\n",
              "        vertical-align: top;\n",
              "    }\n",
              "\n",
              "    .dataframe thead th {\n",
              "        text-align: right;\n",
              "    }\n",
              "</style>\n",
              "<table border=\"1\" class=\"dataframe\">\n",
              "  <thead>\n",
              "    <tr style=\"text-align: right;\">\n",
              "      <th></th>\n",
              "      <th>coor</th>\n",
              "      <th>bedrooms</th>\n",
              "      <th>bathrooms</th>\n",
              "      <th>Pricesqrt</th>\n",
              "      <th>ClassPred</th>\n",
              "    </tr>\n",
              "  </thead>\n",
              "  <tbody>\n",
              "    <tr>\n",
              "      <th>0</th>\n",
              "      <td>0.489882</td>\n",
              "      <td>13</td>\n",
              "      <td>10.0</td>\n",
              "      <td>4.0</td>\n",
              "      <td>4.0</td>\n",
              "    </tr>\n",
              "    <tr>\n",
              "      <th>1</th>\n",
              "      <td>0.750465</td>\n",
              "      <td>2</td>\n",
              "      <td>2.0</td>\n",
              "      <td>4.0</td>\n",
              "      <td>4.0</td>\n",
              "    </tr>\n",
              "    <tr>\n",
              "      <th>3</th>\n",
              "      <td>0.741256</td>\n",
              "      <td>7</td>\n",
              "      <td>5.0</td>\n",
              "      <td>4.0</td>\n",
              "      <td>4.0</td>\n",
              "    </tr>\n",
              "    <tr>\n",
              "      <th>4</th>\n",
              "      <td>0.582740</td>\n",
              "      <td>4</td>\n",
              "      <td>6.0</td>\n",
              "      <td>4.0</td>\n",
              "      <td>2.0</td>\n",
              "    </tr>\n",
              "    <tr>\n",
              "      <th>5</th>\n",
              "      <td>0.618060</td>\n",
              "      <td>3</td>\n",
              "      <td>4.0</td>\n",
              "      <td>4.0</td>\n",
              "      <td>2.0</td>\n",
              "    </tr>\n",
              "  </tbody>\n",
              "</table>\n",
              "</div>\n",
              "      <button class=\"colab-df-convert\" onclick=\"convertToInteractive('df-1d041aff-a3cc-4666-a144-e59d2c6b9618')\"\n",
              "              title=\"Convert this dataframe to an interactive table.\"\n",
              "              style=\"display:none;\">\n",
              "        \n",
              "  <svg xmlns=\"http://www.w3.org/2000/svg\" height=\"24px\"viewBox=\"0 0 24 24\"\n",
              "       width=\"24px\">\n",
              "    <path d=\"M0 0h24v24H0V0z\" fill=\"none\"/>\n",
              "    <path d=\"M18.56 5.44l.94 2.06.94-2.06 2.06-.94-2.06-.94-.94-2.06-.94 2.06-2.06.94zm-11 1L8.5 8.5l.94-2.06 2.06-.94-2.06-.94L8.5 2.5l-.94 2.06-2.06.94zm10 10l.94 2.06.94-2.06 2.06-.94-2.06-.94-.94-2.06-.94 2.06-2.06.94z\"/><path d=\"M17.41 7.96l-1.37-1.37c-.4-.4-.92-.59-1.43-.59-.52 0-1.04.2-1.43.59L10.3 9.45l-7.72 7.72c-.78.78-.78 2.05 0 2.83L4 21.41c.39.39.9.59 1.41.59.51 0 1.02-.2 1.41-.59l7.78-7.78 2.81-2.81c.8-.78.8-2.07 0-2.86zM5.41 20L4 18.59l7.72-7.72 1.47 1.35L5.41 20z\"/>\n",
              "  </svg>\n",
              "      </button>\n",
              "      \n",
              "  <style>\n",
              "    .colab-df-container {\n",
              "      display:flex;\n",
              "      flex-wrap:wrap;\n",
              "      gap: 12px;\n",
              "    }\n",
              "\n",
              "    .colab-df-convert {\n",
              "      background-color: #E8F0FE;\n",
              "      border: none;\n",
              "      border-radius: 50%;\n",
              "      cursor: pointer;\n",
              "      display: none;\n",
              "      fill: #1967D2;\n",
              "      height: 32px;\n",
              "      padding: 0 0 0 0;\n",
              "      width: 32px;\n",
              "    }\n",
              "\n",
              "    .colab-df-convert:hover {\n",
              "      background-color: #E2EBFA;\n",
              "      box-shadow: 0px 1px 2px rgba(60, 64, 67, 0.3), 0px 1px 3px 1px rgba(60, 64, 67, 0.15);\n",
              "      fill: #174EA6;\n",
              "    }\n",
              "\n",
              "    [theme=dark] .colab-df-convert {\n",
              "      background-color: #3B4455;\n",
              "      fill: #D2E3FC;\n",
              "    }\n",
              "\n",
              "    [theme=dark] .colab-df-convert:hover {\n",
              "      background-color: #434B5C;\n",
              "      box-shadow: 0px 1px 3px 1px rgba(0, 0, 0, 0.15);\n",
              "      filter: drop-shadow(0px 1px 2px rgba(0, 0, 0, 0.3));\n",
              "      fill: #FFFFFF;\n",
              "    }\n",
              "  </style>\n",
              "\n",
              "      <script>\n",
              "        const buttonEl =\n",
              "          document.querySelector('#df-1d041aff-a3cc-4666-a144-e59d2c6b9618 button.colab-df-convert');\n",
              "        buttonEl.style.display =\n",
              "          google.colab.kernel.accessAllowed ? 'block' : 'none';\n",
              "\n",
              "        async function convertToInteractive(key) {\n",
              "          const element = document.querySelector('#df-1d041aff-a3cc-4666-a144-e59d2c6b9618');\n",
              "          const dataTable =\n",
              "            await google.colab.kernel.invokeFunction('convertToInteractive',\n",
              "                                                     [key], {});\n",
              "          if (!dataTable) return;\n",
              "\n",
              "          const docLinkHtml = 'Like what you see? Visit the ' +\n",
              "            '<a target=\"_blank\" href=https://colab.research.google.com/notebooks/data_table.ipynb>data table notebook</a>'\n",
              "            + ' to learn more about interactive tables.';\n",
              "          element.innerHTML = '';\n",
              "          dataTable['output_type'] = 'display_data';\n",
              "          await google.colab.output.renderOutput(dataTable, element);\n",
              "          const docLink = document.createElement('div');\n",
              "          docLink.innerHTML = docLinkHtml;\n",
              "          element.appendChild(docLink);\n",
              "        }\n",
              "      </script>\n",
              "    </div>\n",
              "  </div>\n",
              "  "
            ]
          },
          "metadata": {},
          "execution_count": 140
        }
      ]
    },
    {
      "cell_type": "code",
      "source": [
        "ndf = df\n"
      ],
      "metadata": {
        "id": "m-eYj3gFyyVA"
      },
      "execution_count": 266,
      "outputs": []
    },
    {
      "cell_type": "code",
      "source": [
        "ndf = ndf.join(add, lsuffix='l', rsuffix='la')"
      ],
      "metadata": {
        "id": "-RqPojIh2_ak"
      },
      "execution_count": 267,
      "outputs": []
    },
    {
      "cell_type": "code",
      "source": [
        "ndf.head()"
      ],
      "metadata": {
        "colab": {
          "base_uri": "https://localhost:8080/",
          "height": 473
        },
        "id": "vxQSdrGwzSky",
        "outputId": "279bc46c-4ff4-432a-f4f4-09b72da584c4"
      },
      "execution_count": 268,
      "outputs": [
        {
          "output_type": "execute_result",
          "data": {
            "text/plain": [
              "        MLS  sold_price  zipcode   longitude   latitude  lot_acres     taxes  \\\n",
              "0  21530491   5300000.0    85637 -110.378200  31.356362    2154.00   5272.00   \n",
              "1  21529082   4200000.0    85646 -111.045371  31.594213    1707.00  10422.36   \n",
              "3  21919321   4500000.0    85646 -111.035925  31.645878     636.67   8418.58   \n",
              "4  21306357   3411450.0    85750 -110.813768  32.285162       3.21  15393.00   \n",
              "5  21528016   3250000.0    85718 -110.910593  32.339090       1.67  27802.84   \n",
              "\n",
              "   year_built  bedroomsl  bathroomsl  ...  \\\n",
              "0        1941         13        10.0  ...   \n",
              "1        1997          2         2.0  ...   \n",
              "3        1930          7         5.0  ...   \n",
              "4        1995          4         6.0  ...   \n",
              "5        1999          3         4.0  ...   \n",
              "\n",
              "                                    kitchen_features  fireplaces  \\\n",
              "0            Dishwasher, Freezer, Refrigerator, Oven         6.0   \n",
              "1                       Dishwasher, Garbage Disposal         5.0   \n",
              "3  Dishwasher, Double Sink, Pantry: Butler, Refri...         4.0   \n",
              "4  Dishwasher, Garbage Disposal, Refrigerator, Mi...         5.0   \n",
              "5  Dishwasher, Garbage Disposal, Refrigerator, Mi...         5.0   \n",
              "\n",
              "                 floor_covering    HOA Pricesqrtl      coor  bedroomsla  \\\n",
              "0            Mexican Tile, Wood    0.0        4.0  0.489882        13.0   \n",
              "1          Natural Stone, Other    0.0        4.0  0.750465         2.0   \n",
              "3  Ceramic Tile, Laminate, Wood   56.0        4.0  0.741256         7.0   \n",
              "4              Carpet, Concrete   55.0        4.0  0.582740         4.0   \n",
              "5    Natural Stone, Wood, Other  422.0        4.0  0.618060         3.0   \n",
              "\n",
              "   bathroomsla  Pricesqrtla  ClassPred  \n",
              "0         10.0          4.0        4.0  \n",
              "1          2.0          4.0        4.0  \n",
              "3          5.0          4.0        4.0  \n",
              "4          6.0          4.0        2.0  \n",
              "5          4.0          4.0        2.0  \n",
              "\n",
              "[5 rows x 22 columns]"
            ],
            "text/html": [
              "\n",
              "  <div id=\"df-32fb05a1-6f46-4bcb-a89f-50d6fc450569\">\n",
              "    <div class=\"colab-df-container\">\n",
              "      <div>\n",
              "<style scoped>\n",
              "    .dataframe tbody tr th:only-of-type {\n",
              "        vertical-align: middle;\n",
              "    }\n",
              "\n",
              "    .dataframe tbody tr th {\n",
              "        vertical-align: top;\n",
              "    }\n",
              "\n",
              "    .dataframe thead th {\n",
              "        text-align: right;\n",
              "    }\n",
              "</style>\n",
              "<table border=\"1\" class=\"dataframe\">\n",
              "  <thead>\n",
              "    <tr style=\"text-align: right;\">\n",
              "      <th></th>\n",
              "      <th>MLS</th>\n",
              "      <th>sold_price</th>\n",
              "      <th>zipcode</th>\n",
              "      <th>longitude</th>\n",
              "      <th>latitude</th>\n",
              "      <th>lot_acres</th>\n",
              "      <th>taxes</th>\n",
              "      <th>year_built</th>\n",
              "      <th>bedroomsl</th>\n",
              "      <th>bathroomsl</th>\n",
              "      <th>...</th>\n",
              "      <th>kitchen_features</th>\n",
              "      <th>fireplaces</th>\n",
              "      <th>floor_covering</th>\n",
              "      <th>HOA</th>\n",
              "      <th>Pricesqrtl</th>\n",
              "      <th>coor</th>\n",
              "      <th>bedroomsla</th>\n",
              "      <th>bathroomsla</th>\n",
              "      <th>Pricesqrtla</th>\n",
              "      <th>ClassPred</th>\n",
              "    </tr>\n",
              "  </thead>\n",
              "  <tbody>\n",
              "    <tr>\n",
              "      <th>0</th>\n",
              "      <td>21530491</td>\n",
              "      <td>5300000.0</td>\n",
              "      <td>85637</td>\n",
              "      <td>-110.378200</td>\n",
              "      <td>31.356362</td>\n",
              "      <td>2154.00</td>\n",
              "      <td>5272.00</td>\n",
              "      <td>1941</td>\n",
              "      <td>13</td>\n",
              "      <td>10.0</td>\n",
              "      <td>...</td>\n",
              "      <td>Dishwasher, Freezer, Refrigerator, Oven</td>\n",
              "      <td>6.0</td>\n",
              "      <td>Mexican Tile, Wood</td>\n",
              "      <td>0.0</td>\n",
              "      <td>4.0</td>\n",
              "      <td>0.489882</td>\n",
              "      <td>13.0</td>\n",
              "      <td>10.0</td>\n",
              "      <td>4.0</td>\n",
              "      <td>4.0</td>\n",
              "    </tr>\n",
              "    <tr>\n",
              "      <th>1</th>\n",
              "      <td>21529082</td>\n",
              "      <td>4200000.0</td>\n",
              "      <td>85646</td>\n",
              "      <td>-111.045371</td>\n",
              "      <td>31.594213</td>\n",
              "      <td>1707.00</td>\n",
              "      <td>10422.36</td>\n",
              "      <td>1997</td>\n",
              "      <td>2</td>\n",
              "      <td>2.0</td>\n",
              "      <td>...</td>\n",
              "      <td>Dishwasher, Garbage Disposal</td>\n",
              "      <td>5.0</td>\n",
              "      <td>Natural Stone, Other</td>\n",
              "      <td>0.0</td>\n",
              "      <td>4.0</td>\n",
              "      <td>0.750465</td>\n",
              "      <td>2.0</td>\n",
              "      <td>2.0</td>\n",
              "      <td>4.0</td>\n",
              "      <td>4.0</td>\n",
              "    </tr>\n",
              "    <tr>\n",
              "      <th>3</th>\n",
              "      <td>21919321</td>\n",
              "      <td>4500000.0</td>\n",
              "      <td>85646</td>\n",
              "      <td>-111.035925</td>\n",
              "      <td>31.645878</td>\n",
              "      <td>636.67</td>\n",
              "      <td>8418.58</td>\n",
              "      <td>1930</td>\n",
              "      <td>7</td>\n",
              "      <td>5.0</td>\n",
              "      <td>...</td>\n",
              "      <td>Dishwasher, Double Sink, Pantry: Butler, Refri...</td>\n",
              "      <td>4.0</td>\n",
              "      <td>Ceramic Tile, Laminate, Wood</td>\n",
              "      <td>56.0</td>\n",
              "      <td>4.0</td>\n",
              "      <td>0.741256</td>\n",
              "      <td>7.0</td>\n",
              "      <td>5.0</td>\n",
              "      <td>4.0</td>\n",
              "      <td>4.0</td>\n",
              "    </tr>\n",
              "    <tr>\n",
              "      <th>4</th>\n",
              "      <td>21306357</td>\n",
              "      <td>3411450.0</td>\n",
              "      <td>85750</td>\n",
              "      <td>-110.813768</td>\n",
              "      <td>32.285162</td>\n",
              "      <td>3.21</td>\n",
              "      <td>15393.00</td>\n",
              "      <td>1995</td>\n",
              "      <td>4</td>\n",
              "      <td>6.0</td>\n",
              "      <td>...</td>\n",
              "      <td>Dishwasher, Garbage Disposal, Refrigerator, Mi...</td>\n",
              "      <td>5.0</td>\n",
              "      <td>Carpet, Concrete</td>\n",
              "      <td>55.0</td>\n",
              "      <td>4.0</td>\n",
              "      <td>0.582740</td>\n",
              "      <td>4.0</td>\n",
              "      <td>6.0</td>\n",
              "      <td>4.0</td>\n",
              "      <td>2.0</td>\n",
              "    </tr>\n",
              "    <tr>\n",
              "      <th>5</th>\n",
              "      <td>21528016</td>\n",
              "      <td>3250000.0</td>\n",
              "      <td>85718</td>\n",
              "      <td>-110.910593</td>\n",
              "      <td>32.339090</td>\n",
              "      <td>1.67</td>\n",
              "      <td>27802.84</td>\n",
              "      <td>1999</td>\n",
              "      <td>3</td>\n",
              "      <td>4.0</td>\n",
              "      <td>...</td>\n",
              "      <td>Dishwasher, Garbage Disposal, Refrigerator, Mi...</td>\n",
              "      <td>5.0</td>\n",
              "      <td>Natural Stone, Wood, Other</td>\n",
              "      <td>422.0</td>\n",
              "      <td>4.0</td>\n",
              "      <td>0.618060</td>\n",
              "      <td>3.0</td>\n",
              "      <td>4.0</td>\n",
              "      <td>4.0</td>\n",
              "      <td>2.0</td>\n",
              "    </tr>\n",
              "  </tbody>\n",
              "</table>\n",
              "<p>5 rows × 22 columns</p>\n",
              "</div>\n",
              "      <button class=\"colab-df-convert\" onclick=\"convertToInteractive('df-32fb05a1-6f46-4bcb-a89f-50d6fc450569')\"\n",
              "              title=\"Convert this dataframe to an interactive table.\"\n",
              "              style=\"display:none;\">\n",
              "        \n",
              "  <svg xmlns=\"http://www.w3.org/2000/svg\" height=\"24px\"viewBox=\"0 0 24 24\"\n",
              "       width=\"24px\">\n",
              "    <path d=\"M0 0h24v24H0V0z\" fill=\"none\"/>\n",
              "    <path d=\"M18.56 5.44l.94 2.06.94-2.06 2.06-.94-2.06-.94-.94-2.06-.94 2.06-2.06.94zm-11 1L8.5 8.5l.94-2.06 2.06-.94-2.06-.94L8.5 2.5l-.94 2.06-2.06.94zm10 10l.94 2.06.94-2.06 2.06-.94-2.06-.94-.94-2.06-.94 2.06-2.06.94z\"/><path d=\"M17.41 7.96l-1.37-1.37c-.4-.4-.92-.59-1.43-.59-.52 0-1.04.2-1.43.59L10.3 9.45l-7.72 7.72c-.78.78-.78 2.05 0 2.83L4 21.41c.39.39.9.59 1.41.59.51 0 1.02-.2 1.41-.59l7.78-7.78 2.81-2.81c.8-.78.8-2.07 0-2.86zM5.41 20L4 18.59l7.72-7.72 1.47 1.35L5.41 20z\"/>\n",
              "  </svg>\n",
              "      </button>\n",
              "      \n",
              "  <style>\n",
              "    .colab-df-container {\n",
              "      display:flex;\n",
              "      flex-wrap:wrap;\n",
              "      gap: 12px;\n",
              "    }\n",
              "\n",
              "    .colab-df-convert {\n",
              "      background-color: #E8F0FE;\n",
              "      border: none;\n",
              "      border-radius: 50%;\n",
              "      cursor: pointer;\n",
              "      display: none;\n",
              "      fill: #1967D2;\n",
              "      height: 32px;\n",
              "      padding: 0 0 0 0;\n",
              "      width: 32px;\n",
              "    }\n",
              "\n",
              "    .colab-df-convert:hover {\n",
              "      background-color: #E2EBFA;\n",
              "      box-shadow: 0px 1px 2px rgba(60, 64, 67, 0.3), 0px 1px 3px 1px rgba(60, 64, 67, 0.15);\n",
              "      fill: #174EA6;\n",
              "    }\n",
              "\n",
              "    [theme=dark] .colab-df-convert {\n",
              "      background-color: #3B4455;\n",
              "      fill: #D2E3FC;\n",
              "    }\n",
              "\n",
              "    [theme=dark] .colab-df-convert:hover {\n",
              "      background-color: #434B5C;\n",
              "      box-shadow: 0px 1px 3px 1px rgba(0, 0, 0, 0.15);\n",
              "      filter: drop-shadow(0px 1px 2px rgba(0, 0, 0, 0.3));\n",
              "      fill: #FFFFFF;\n",
              "    }\n",
              "  </style>\n",
              "\n",
              "      <script>\n",
              "        const buttonEl =\n",
              "          document.querySelector('#df-32fb05a1-6f46-4bcb-a89f-50d6fc450569 button.colab-df-convert');\n",
              "        buttonEl.style.display =\n",
              "          google.colab.kernel.accessAllowed ? 'block' : 'none';\n",
              "\n",
              "        async function convertToInteractive(key) {\n",
              "          const element = document.querySelector('#df-32fb05a1-6f46-4bcb-a89f-50d6fc450569');\n",
              "          const dataTable =\n",
              "            await google.colab.kernel.invokeFunction('convertToInteractive',\n",
              "                                                     [key], {});\n",
              "          if (!dataTable) return;\n",
              "\n",
              "          const docLinkHtml = 'Like what you see? Visit the ' +\n",
              "            '<a target=\"_blank\" href=https://colab.research.google.com/notebooks/data_table.ipynb>data table notebook</a>'\n",
              "            + ' to learn more about interactive tables.';\n",
              "          element.innerHTML = '';\n",
              "          dataTable['output_type'] = 'display_data';\n",
              "          await google.colab.output.renderOutput(dataTable, element);\n",
              "          const docLink = document.createElement('div');\n",
              "          docLink.innerHTML = docLinkHtml;\n",
              "          element.appendChild(docLink);\n",
              "        }\n",
              "      </script>\n",
              "    </div>\n",
              "  </div>\n",
              "  "
            ]
          },
          "metadata": {},
          "execution_count": 268
        }
      ]
    },
    {
      "cell_type": "code",
      "source": [
        "#class 1 \n",
        "cate1 = ndf[ndf['ClassPred']==1]\n",
        "cate1.head()"
      ],
      "metadata": {
        "colab": {
          "base_uri": "https://localhost:8080/",
          "height": 525
        },
        "id": "663KxgiVwTv6",
        "outputId": "beb89fe6-9a42-45c5-9586-385df6de1a2d"
      },
      "execution_count": 269,
      "outputs": [
        {
          "output_type": "execute_result",
          "data": {
            "text/plain": [
              "          MLS  sold_price  zipcode   longitude   latitude  lot_acres  \\\n",
              "30   21906412   2350000.0    85750 -110.858327  32.331597       1.55   \n",
              "47   21605559   2197500.0    85750 -110.860852  32.330665       1.14   \n",
              "60   21706549   1995000.0    85750 -110.860305  32.323825       1.15   \n",
              "89   21625846   1750000.0    85749 -110.761590  32.302163       3.71   \n",
              "115  21823642   1695000.0    85718 -110.917749  32.300739       1.11   \n",
              "\n",
              "        taxes  year_built  bedroomsl  bathroomsl  ...  \\\n",
              "30    5931.00        2018          6         6.0  ...   \n",
              "47    7292.00        2016          6         6.0  ...   \n",
              "60    3292.00        2017          6         6.0  ...   \n",
              "89   13947.44        2005          4         6.0  ...   \n",
              "115  19110.45        2008          6         6.0  ...   \n",
              "\n",
              "                                      kitchen_features  fireplaces  \\\n",
              "30   Dishwasher, Double Sink, Garbage Disposal, Gas...         3.0   \n",
              "47   Dishwasher, Garbage Disposal, Refrigerator, Mi...         3.0   \n",
              "60   Dishwasher, Double Sink, Garbage Disposal, Gas...         3.0   \n",
              "89   Dishwasher, Garbage Disposal, Refrigerator, Mi...         5.0   \n",
              "115  Dishwasher, Double Sink, Freezer, Garbage Disp...         3.0   \n",
              "\n",
              "                  floor_covering    HOA Pricesqrtl      coor  bedroomsla  \\\n",
              "30                 Natural Stone  240.0        4.0  0.596808         6.0   \n",
              "47         Carpet, Natural Stone  220.0        4.0  0.597966         6.0   \n",
              "60                 Natural Stone   55.0        3.0  0.598431         6.0   \n",
              "89           Natural Stone, Wood  127.0        3.0  0.559028         4.0   \n",
              "115  Carpet, Natural Stone, Wood  180.0        2.0  0.624981         6.0   \n",
              "\n",
              "     bathroomsla  Pricesqrtla  ClassPred  \n",
              "30           6.0          4.0        1.0  \n",
              "47           6.0          4.0        1.0  \n",
              "60           6.0          3.0        1.0  \n",
              "89           6.0          3.0        1.0  \n",
              "115          6.0          2.0        1.0  \n",
              "\n",
              "[5 rows x 22 columns]"
            ],
            "text/html": [
              "\n",
              "  <div id=\"df-94e53cf8-3ee5-4099-8854-2d25edd6b7b4\">\n",
              "    <div class=\"colab-df-container\">\n",
              "      <div>\n",
              "<style scoped>\n",
              "    .dataframe tbody tr th:only-of-type {\n",
              "        vertical-align: middle;\n",
              "    }\n",
              "\n",
              "    .dataframe tbody tr th {\n",
              "        vertical-align: top;\n",
              "    }\n",
              "\n",
              "    .dataframe thead th {\n",
              "        text-align: right;\n",
              "    }\n",
              "</style>\n",
              "<table border=\"1\" class=\"dataframe\">\n",
              "  <thead>\n",
              "    <tr style=\"text-align: right;\">\n",
              "      <th></th>\n",
              "      <th>MLS</th>\n",
              "      <th>sold_price</th>\n",
              "      <th>zipcode</th>\n",
              "      <th>longitude</th>\n",
              "      <th>latitude</th>\n",
              "      <th>lot_acres</th>\n",
              "      <th>taxes</th>\n",
              "      <th>year_built</th>\n",
              "      <th>bedroomsl</th>\n",
              "      <th>bathroomsl</th>\n",
              "      <th>...</th>\n",
              "      <th>kitchen_features</th>\n",
              "      <th>fireplaces</th>\n",
              "      <th>floor_covering</th>\n",
              "      <th>HOA</th>\n",
              "      <th>Pricesqrtl</th>\n",
              "      <th>coor</th>\n",
              "      <th>bedroomsla</th>\n",
              "      <th>bathroomsla</th>\n",
              "      <th>Pricesqrtla</th>\n",
              "      <th>ClassPred</th>\n",
              "    </tr>\n",
              "  </thead>\n",
              "  <tbody>\n",
              "    <tr>\n",
              "      <th>30</th>\n",
              "      <td>21906412</td>\n",
              "      <td>2350000.0</td>\n",
              "      <td>85750</td>\n",
              "      <td>-110.858327</td>\n",
              "      <td>32.331597</td>\n",
              "      <td>1.55</td>\n",
              "      <td>5931.00</td>\n",
              "      <td>2018</td>\n",
              "      <td>6</td>\n",
              "      <td>6.0</td>\n",
              "      <td>...</td>\n",
              "      <td>Dishwasher, Double Sink, Garbage Disposal, Gas...</td>\n",
              "      <td>3.0</td>\n",
              "      <td>Natural Stone</td>\n",
              "      <td>240.0</td>\n",
              "      <td>4.0</td>\n",
              "      <td>0.596808</td>\n",
              "      <td>6.0</td>\n",
              "      <td>6.0</td>\n",
              "      <td>4.0</td>\n",
              "      <td>1.0</td>\n",
              "    </tr>\n",
              "    <tr>\n",
              "      <th>47</th>\n",
              "      <td>21605559</td>\n",
              "      <td>2197500.0</td>\n",
              "      <td>85750</td>\n",
              "      <td>-110.860852</td>\n",
              "      <td>32.330665</td>\n",
              "      <td>1.14</td>\n",
              "      <td>7292.00</td>\n",
              "      <td>2016</td>\n",
              "      <td>6</td>\n",
              "      <td>6.0</td>\n",
              "      <td>...</td>\n",
              "      <td>Dishwasher, Garbage Disposal, Refrigerator, Mi...</td>\n",
              "      <td>3.0</td>\n",
              "      <td>Carpet, Natural Stone</td>\n",
              "      <td>220.0</td>\n",
              "      <td>4.0</td>\n",
              "      <td>0.597966</td>\n",
              "      <td>6.0</td>\n",
              "      <td>6.0</td>\n",
              "      <td>4.0</td>\n",
              "      <td>1.0</td>\n",
              "    </tr>\n",
              "    <tr>\n",
              "      <th>60</th>\n",
              "      <td>21706549</td>\n",
              "      <td>1995000.0</td>\n",
              "      <td>85750</td>\n",
              "      <td>-110.860305</td>\n",
              "      <td>32.323825</td>\n",
              "      <td>1.15</td>\n",
              "      <td>3292.00</td>\n",
              "      <td>2017</td>\n",
              "      <td>6</td>\n",
              "      <td>6.0</td>\n",
              "      <td>...</td>\n",
              "      <td>Dishwasher, Double Sink, Garbage Disposal, Gas...</td>\n",
              "      <td>3.0</td>\n",
              "      <td>Natural Stone</td>\n",
              "      <td>55.0</td>\n",
              "      <td>3.0</td>\n",
              "      <td>0.598431</td>\n",
              "      <td>6.0</td>\n",
              "      <td>6.0</td>\n",
              "      <td>3.0</td>\n",
              "      <td>1.0</td>\n",
              "    </tr>\n",
              "    <tr>\n",
              "      <th>89</th>\n",
              "      <td>21625846</td>\n",
              "      <td>1750000.0</td>\n",
              "      <td>85749</td>\n",
              "      <td>-110.761590</td>\n",
              "      <td>32.302163</td>\n",
              "      <td>3.71</td>\n",
              "      <td>13947.44</td>\n",
              "      <td>2005</td>\n",
              "      <td>4</td>\n",
              "      <td>6.0</td>\n",
              "      <td>...</td>\n",
              "      <td>Dishwasher, Garbage Disposal, Refrigerator, Mi...</td>\n",
              "      <td>5.0</td>\n",
              "      <td>Natural Stone, Wood</td>\n",
              "      <td>127.0</td>\n",
              "      <td>3.0</td>\n",
              "      <td>0.559028</td>\n",
              "      <td>4.0</td>\n",
              "      <td>6.0</td>\n",
              "      <td>3.0</td>\n",
              "      <td>1.0</td>\n",
              "    </tr>\n",
              "    <tr>\n",
              "      <th>115</th>\n",
              "      <td>21823642</td>\n",
              "      <td>1695000.0</td>\n",
              "      <td>85718</td>\n",
              "      <td>-110.917749</td>\n",
              "      <td>32.300739</td>\n",
              "      <td>1.11</td>\n",
              "      <td>19110.45</td>\n",
              "      <td>2008</td>\n",
              "      <td>6</td>\n",
              "      <td>6.0</td>\n",
              "      <td>...</td>\n",
              "      <td>Dishwasher, Double Sink, Freezer, Garbage Disp...</td>\n",
              "      <td>3.0</td>\n",
              "      <td>Carpet, Natural Stone, Wood</td>\n",
              "      <td>180.0</td>\n",
              "      <td>2.0</td>\n",
              "      <td>0.624981</td>\n",
              "      <td>6.0</td>\n",
              "      <td>6.0</td>\n",
              "      <td>2.0</td>\n",
              "      <td>1.0</td>\n",
              "    </tr>\n",
              "  </tbody>\n",
              "</table>\n",
              "<p>5 rows × 22 columns</p>\n",
              "</div>\n",
              "      <button class=\"colab-df-convert\" onclick=\"convertToInteractive('df-94e53cf8-3ee5-4099-8854-2d25edd6b7b4')\"\n",
              "              title=\"Convert this dataframe to an interactive table.\"\n",
              "              style=\"display:none;\">\n",
              "        \n",
              "  <svg xmlns=\"http://www.w3.org/2000/svg\" height=\"24px\"viewBox=\"0 0 24 24\"\n",
              "       width=\"24px\">\n",
              "    <path d=\"M0 0h24v24H0V0z\" fill=\"none\"/>\n",
              "    <path d=\"M18.56 5.44l.94 2.06.94-2.06 2.06-.94-2.06-.94-.94-2.06-.94 2.06-2.06.94zm-11 1L8.5 8.5l.94-2.06 2.06-.94-2.06-.94L8.5 2.5l-.94 2.06-2.06.94zm10 10l.94 2.06.94-2.06 2.06-.94-2.06-.94-.94-2.06-.94 2.06-2.06.94z\"/><path d=\"M17.41 7.96l-1.37-1.37c-.4-.4-.92-.59-1.43-.59-.52 0-1.04.2-1.43.59L10.3 9.45l-7.72 7.72c-.78.78-.78 2.05 0 2.83L4 21.41c.39.39.9.59 1.41.59.51 0 1.02-.2 1.41-.59l7.78-7.78 2.81-2.81c.8-.78.8-2.07 0-2.86zM5.41 20L4 18.59l7.72-7.72 1.47 1.35L5.41 20z\"/>\n",
              "  </svg>\n",
              "      </button>\n",
              "      \n",
              "  <style>\n",
              "    .colab-df-container {\n",
              "      display:flex;\n",
              "      flex-wrap:wrap;\n",
              "      gap: 12px;\n",
              "    }\n",
              "\n",
              "    .colab-df-convert {\n",
              "      background-color: #E8F0FE;\n",
              "      border: none;\n",
              "      border-radius: 50%;\n",
              "      cursor: pointer;\n",
              "      display: none;\n",
              "      fill: #1967D2;\n",
              "      height: 32px;\n",
              "      padding: 0 0 0 0;\n",
              "      width: 32px;\n",
              "    }\n",
              "\n",
              "    .colab-df-convert:hover {\n",
              "      background-color: #E2EBFA;\n",
              "      box-shadow: 0px 1px 2px rgba(60, 64, 67, 0.3), 0px 1px 3px 1px rgba(60, 64, 67, 0.15);\n",
              "      fill: #174EA6;\n",
              "    }\n",
              "\n",
              "    [theme=dark] .colab-df-convert {\n",
              "      background-color: #3B4455;\n",
              "      fill: #D2E3FC;\n",
              "    }\n",
              "\n",
              "    [theme=dark] .colab-df-convert:hover {\n",
              "      background-color: #434B5C;\n",
              "      box-shadow: 0px 1px 3px 1px rgba(0, 0, 0, 0.15);\n",
              "      filter: drop-shadow(0px 1px 2px rgba(0, 0, 0, 0.3));\n",
              "      fill: #FFFFFF;\n",
              "    }\n",
              "  </style>\n",
              "\n",
              "      <script>\n",
              "        const buttonEl =\n",
              "          document.querySelector('#df-94e53cf8-3ee5-4099-8854-2d25edd6b7b4 button.colab-df-convert');\n",
              "        buttonEl.style.display =\n",
              "          google.colab.kernel.accessAllowed ? 'block' : 'none';\n",
              "\n",
              "        async function convertToInteractive(key) {\n",
              "          const element = document.querySelector('#df-94e53cf8-3ee5-4099-8854-2d25edd6b7b4');\n",
              "          const dataTable =\n",
              "            await google.colab.kernel.invokeFunction('convertToInteractive',\n",
              "                                                     [key], {});\n",
              "          if (!dataTable) return;\n",
              "\n",
              "          const docLinkHtml = 'Like what you see? Visit the ' +\n",
              "            '<a target=\"_blank\" href=https://colab.research.google.com/notebooks/data_table.ipynb>data table notebook</a>'\n",
              "            + ' to learn more about interactive tables.';\n",
              "          element.innerHTML = '';\n",
              "          dataTable['output_type'] = 'display_data';\n",
              "          await google.colab.output.renderOutput(dataTable, element);\n",
              "          const docLink = document.createElement('div');\n",
              "          docLink.innerHTML = docLinkHtml;\n",
              "          element.appendChild(docLink);\n",
              "        }\n",
              "      </script>\n",
              "    </div>\n",
              "  </div>\n",
              "  "
            ]
          },
          "metadata": {},
          "execution_count": 269
        }
      ]
    },
    {
      "cell_type": "code",
      "source": [
        "#class 2\n",
        "cate2 = ndf[ndf['ClassPred']==2]\n",
        "cate2.shape"
      ],
      "metadata": {
        "colab": {
          "base_uri": "https://localhost:8080/",
          "height": 0
        },
        "id": "65gu9d-2vjtD",
        "outputId": "d3962e3d-2e9a-4301-d746-1a2e0c306bc9"
      },
      "execution_count": 270,
      "outputs": [
        {
          "output_type": "execute_result",
          "data": {
            "text/plain": [
              "(4573, 22)"
            ]
          },
          "metadata": {},
          "execution_count": 270
        }
      ]
    },
    {
      "cell_type": "code",
      "source": [
        "#class 3\n",
        "cate3 = ndf[ndf['ClassPred']==3]\n",
        "cate3.shape"
      ],
      "metadata": {
        "colab": {
          "base_uri": "https://localhost:8080/",
          "height": 0
        },
        "id": "_cHsjJvd0Al0",
        "outputId": "483b4de0-7383-4604-956d-78ca319dbad7"
      },
      "execution_count": 271,
      "outputs": [
        {
          "output_type": "execute_result",
          "data": {
            "text/plain": [
              "(208, 22)"
            ]
          },
          "metadata": {},
          "execution_count": 271
        }
      ]
    },
    {
      "cell_type": "code",
      "source": [
        "#class 4\n",
        "cate4 = ndf[ndf['ClassPred']==4]\n",
        "cate4.shape"
      ],
      "metadata": {
        "colab": {
          "base_uri": "https://localhost:8080/",
          "height": 0
        },
        "id": "fGgjTXC60EYY",
        "outputId": "8db61351-6e7f-41cb-f982-f5664223cf0a"
      },
      "execution_count": 272,
      "outputs": [
        {
          "output_type": "execute_result",
          "data": {
            "text/plain": [
              "(57, 22)"
            ]
          },
          "metadata": {},
          "execution_count": 272
        }
      ]
    },
    {
      "cell_type": "code",
      "source": [
        "#class 5\n",
        "cate5 = ndf[ndf['ClassPred']==5]\n",
        "cate5.shape"
      ],
      "metadata": {
        "colab": {
          "base_uri": "https://localhost:8080/",
          "height": 0
        },
        "id": "TTwJ5SXf0ICR",
        "outputId": "71b7a165-8a3f-429f-9d3b-56c7ea91254e"
      },
      "execution_count": 148,
      "outputs": [
        {
          "output_type": "execute_result",
          "data": {
            "text/plain": [
              "(0, 22)"
            ]
          },
          "metadata": {},
          "execution_count": 148
        }
      ]
    },
    {
      "cell_type": "markdown",
      "source": [
        "###Linear regressions "
      ],
      "metadata": {
        "id": "bRa5oAGZEopt"
      }
    },
    {
      "cell_type": "code",
      "source": [
        "# Shuffle your dataset \n",
        "shuffle_df = cate1.sample(frac=1)\n",
        "\n",
        "# Define a size for your train set \n",
        "train_size = int(0.9 * len(cate1))\n",
        "\n",
        "# Split your dataset \n",
        "train_datar = shuffle_df[:train_size]\n",
        "test_datar = shuffle_df[train_size:]"
      ],
      "metadata": {
        "id": "v18t-EaI5NkD"
      },
      "execution_count": 273,
      "outputs": []
    },
    {
      "cell_type": "code",
      "source": [
        "train_datar = train_datar.loc(axis=1)['sold_price','bedroomsl','sqrt_ft','bathroomsl']\n",
        "test_datar = test_datar.loc(axis=1)['sold_price','bedroomsl','sqrt_ft','bathroomsl']"
      ],
      "metadata": {
        "id": "ID8JD4wa4R8x"
      },
      "execution_count": 274,
      "outputs": []
    },
    {
      "cell_type": "code",
      "source": [
        "train_datar"
      ],
      "metadata": {
        "colab": {
          "base_uri": "https://localhost:8080/",
          "height": 423
        },
        "id": "4I8afYAoHuaW",
        "outputId": "b6065203-2712-4e0f-a247-ca361b3be732"
      },
      "execution_count": 275,
      "outputs": [
        {
          "output_type": "execute_result",
          "data": {
            "text/plain": [
              "      sold_price  bedroomsl  sqrt_ft  bathroomsl\n",
              "1465    805000.0          6   4225.0         6.0\n",
              "3029    650000.0          5   4279.0         6.0\n",
              "576    1075000.0          7   9858.0         8.0\n",
              "209    1447510.0          4   6472.0         6.0\n",
              "4032    565000.0          5   4279.0         5.0\n",
              "...          ...        ...      ...         ...\n",
              "2099    625000.0         11   5396.0         9.0\n",
              "1601    730000.0          6   6300.0         6.0\n",
              "149    1485000.0          5   7308.0         9.0\n",
              "4639    532800.0          5   6427.0         5.0\n",
              "4437    535000.0          6   4954.0         5.0\n",
              "\n",
              "[78 rows x 4 columns]"
            ],
            "text/html": [
              "\n",
              "  <div id=\"df-d5040648-4c94-4151-a646-8381a5df201d\">\n",
              "    <div class=\"colab-df-container\">\n",
              "      <div>\n",
              "<style scoped>\n",
              "    .dataframe tbody tr th:only-of-type {\n",
              "        vertical-align: middle;\n",
              "    }\n",
              "\n",
              "    .dataframe tbody tr th {\n",
              "        vertical-align: top;\n",
              "    }\n",
              "\n",
              "    .dataframe thead th {\n",
              "        text-align: right;\n",
              "    }\n",
              "</style>\n",
              "<table border=\"1\" class=\"dataframe\">\n",
              "  <thead>\n",
              "    <tr style=\"text-align: right;\">\n",
              "      <th></th>\n",
              "      <th>sold_price</th>\n",
              "      <th>bedroomsl</th>\n",
              "      <th>sqrt_ft</th>\n",
              "      <th>bathroomsl</th>\n",
              "    </tr>\n",
              "  </thead>\n",
              "  <tbody>\n",
              "    <tr>\n",
              "      <th>1465</th>\n",
              "      <td>805000.0</td>\n",
              "      <td>6</td>\n",
              "      <td>4225.0</td>\n",
              "      <td>6.0</td>\n",
              "    </tr>\n",
              "    <tr>\n",
              "      <th>3029</th>\n",
              "      <td>650000.0</td>\n",
              "      <td>5</td>\n",
              "      <td>4279.0</td>\n",
              "      <td>6.0</td>\n",
              "    </tr>\n",
              "    <tr>\n",
              "      <th>576</th>\n",
              "      <td>1075000.0</td>\n",
              "      <td>7</td>\n",
              "      <td>9858.0</td>\n",
              "      <td>8.0</td>\n",
              "    </tr>\n",
              "    <tr>\n",
              "      <th>209</th>\n",
              "      <td>1447510.0</td>\n",
              "      <td>4</td>\n",
              "      <td>6472.0</td>\n",
              "      <td>6.0</td>\n",
              "    </tr>\n",
              "    <tr>\n",
              "      <th>4032</th>\n",
              "      <td>565000.0</td>\n",
              "      <td>5</td>\n",
              "      <td>4279.0</td>\n",
              "      <td>5.0</td>\n",
              "    </tr>\n",
              "    <tr>\n",
              "      <th>...</th>\n",
              "      <td>...</td>\n",
              "      <td>...</td>\n",
              "      <td>...</td>\n",
              "      <td>...</td>\n",
              "    </tr>\n",
              "    <tr>\n",
              "      <th>2099</th>\n",
              "      <td>625000.0</td>\n",
              "      <td>11</td>\n",
              "      <td>5396.0</td>\n",
              "      <td>9.0</td>\n",
              "    </tr>\n",
              "    <tr>\n",
              "      <th>1601</th>\n",
              "      <td>730000.0</td>\n",
              "      <td>6</td>\n",
              "      <td>6300.0</td>\n",
              "      <td>6.0</td>\n",
              "    </tr>\n",
              "    <tr>\n",
              "      <th>149</th>\n",
              "      <td>1485000.0</td>\n",
              "      <td>5</td>\n",
              "      <td>7308.0</td>\n",
              "      <td>9.0</td>\n",
              "    </tr>\n",
              "    <tr>\n",
              "      <th>4639</th>\n",
              "      <td>532800.0</td>\n",
              "      <td>5</td>\n",
              "      <td>6427.0</td>\n",
              "      <td>5.0</td>\n",
              "    </tr>\n",
              "    <tr>\n",
              "      <th>4437</th>\n",
              "      <td>535000.0</td>\n",
              "      <td>6</td>\n",
              "      <td>4954.0</td>\n",
              "      <td>5.0</td>\n",
              "    </tr>\n",
              "  </tbody>\n",
              "</table>\n",
              "<p>78 rows × 4 columns</p>\n",
              "</div>\n",
              "      <button class=\"colab-df-convert\" onclick=\"convertToInteractive('df-d5040648-4c94-4151-a646-8381a5df201d')\"\n",
              "              title=\"Convert this dataframe to an interactive table.\"\n",
              "              style=\"display:none;\">\n",
              "        \n",
              "  <svg xmlns=\"http://www.w3.org/2000/svg\" height=\"24px\"viewBox=\"0 0 24 24\"\n",
              "       width=\"24px\">\n",
              "    <path d=\"M0 0h24v24H0V0z\" fill=\"none\"/>\n",
              "    <path d=\"M18.56 5.44l.94 2.06.94-2.06 2.06-.94-2.06-.94-.94-2.06-.94 2.06-2.06.94zm-11 1L8.5 8.5l.94-2.06 2.06-.94-2.06-.94L8.5 2.5l-.94 2.06-2.06.94zm10 10l.94 2.06.94-2.06 2.06-.94-2.06-.94-.94-2.06-.94 2.06-2.06.94z\"/><path d=\"M17.41 7.96l-1.37-1.37c-.4-.4-.92-.59-1.43-.59-.52 0-1.04.2-1.43.59L10.3 9.45l-7.72 7.72c-.78.78-.78 2.05 0 2.83L4 21.41c.39.39.9.59 1.41.59.51 0 1.02-.2 1.41-.59l7.78-7.78 2.81-2.81c.8-.78.8-2.07 0-2.86zM5.41 20L4 18.59l7.72-7.72 1.47 1.35L5.41 20z\"/>\n",
              "  </svg>\n",
              "      </button>\n",
              "      \n",
              "  <style>\n",
              "    .colab-df-container {\n",
              "      display:flex;\n",
              "      flex-wrap:wrap;\n",
              "      gap: 12px;\n",
              "    }\n",
              "\n",
              "    .colab-df-convert {\n",
              "      background-color: #E8F0FE;\n",
              "      border: none;\n",
              "      border-radius: 50%;\n",
              "      cursor: pointer;\n",
              "      display: none;\n",
              "      fill: #1967D2;\n",
              "      height: 32px;\n",
              "      padding: 0 0 0 0;\n",
              "      width: 32px;\n",
              "    }\n",
              "\n",
              "    .colab-df-convert:hover {\n",
              "      background-color: #E2EBFA;\n",
              "      box-shadow: 0px 1px 2px rgba(60, 64, 67, 0.3), 0px 1px 3px 1px rgba(60, 64, 67, 0.15);\n",
              "      fill: #174EA6;\n",
              "    }\n",
              "\n",
              "    [theme=dark] .colab-df-convert {\n",
              "      background-color: #3B4455;\n",
              "      fill: #D2E3FC;\n",
              "    }\n",
              "\n",
              "    [theme=dark] .colab-df-convert:hover {\n",
              "      background-color: #434B5C;\n",
              "      box-shadow: 0px 1px 3px 1px rgba(0, 0, 0, 0.15);\n",
              "      filter: drop-shadow(0px 1px 2px rgba(0, 0, 0, 0.3));\n",
              "      fill: #FFFFFF;\n",
              "    }\n",
              "  </style>\n",
              "\n",
              "      <script>\n",
              "        const buttonEl =\n",
              "          document.querySelector('#df-d5040648-4c94-4151-a646-8381a5df201d button.colab-df-convert');\n",
              "        buttonEl.style.display =\n",
              "          google.colab.kernel.accessAllowed ? 'block' : 'none';\n",
              "\n",
              "        async function convertToInteractive(key) {\n",
              "          const element = document.querySelector('#df-d5040648-4c94-4151-a646-8381a5df201d');\n",
              "          const dataTable =\n",
              "            await google.colab.kernel.invokeFunction('convertToInteractive',\n",
              "                                                     [key], {});\n",
              "          if (!dataTable) return;\n",
              "\n",
              "          const docLinkHtml = 'Like what you see? Visit the ' +\n",
              "            '<a target=\"_blank\" href=https://colab.research.google.com/notebooks/data_table.ipynb>data table notebook</a>'\n",
              "            + ' to learn more about interactive tables.';\n",
              "          element.innerHTML = '';\n",
              "          dataTable['output_type'] = 'display_data';\n",
              "          await google.colab.output.renderOutput(dataTable, element);\n",
              "          const docLink = document.createElement('div');\n",
              "          docLink.innerHTML = docLinkHtml;\n",
              "          element.appendChild(docLink);\n",
              "        }\n",
              "      </script>\n",
              "    </div>\n",
              "  </div>\n",
              "  "
            ]
          },
          "metadata": {},
          "execution_count": 275
        }
      ]
    },
    {
      "cell_type": "code",
      "source": [
        "train_datar = train_datar.to_numpy()\n",
        "test_datar = test_datar.to_numpy()"
      ],
      "metadata": {
        "id": "bEC4HIQW5Pp2"
      },
      "execution_count": 276,
      "outputs": []
    },
    {
      "cell_type": "code",
      "source": [
        "x,y = train_datar[:,1:],train_datar[:,0]\n",
        "\n",
        "xt, yt = test_datar[:,1:], test_datar[:,0]"
      ],
      "metadata": {
        "id": "yC1Cq0vD5kNT"
      },
      "execution_count": 277,
      "outputs": []
    },
    {
      "cell_type": "code",
      "source": [
        "model = sm.OLS(y,x)\n",
        "results = model.fit()\n",
        "print(results.summary())"
      ],
      "metadata": {
        "colab": {
          "base_uri": "https://localhost:8080/",
          "height": 0
        },
        "id": "YL1ZEZY15pK6",
        "outputId": "7bebb633-3160-4a95-98d9-d02a3d2cd0e9"
      },
      "execution_count": 279,
      "outputs": [
        {
          "output_type": "stream",
          "name": "stdout",
          "text": [
            "                                 OLS Regression Results                                \n",
            "=======================================================================================\n",
            "Dep. Variable:                      y   R-squared (uncentered):                   0.737\n",
            "Model:                            OLS   Adj. R-squared (uncentered):              0.727\n",
            "Method:                 Least Squares   F-statistic:                              70.22\n",
            "Date:                Tue, 30 Aug 2022   Prob (F-statistic):                    1.00e-21\n",
            "Time:                        05:02:09   Log-Likelihood:                         -1130.0\n",
            "No. Observations:                  78   AIC:                                      2266.\n",
            "Df Residuals:                      75   BIC:                                      2273.\n",
            "Df Model:                           3                                                  \n",
            "Covariance Type:            nonrobust                                                  \n",
            "==============================================================================\n",
            "                 coef    std err          t      P>|t|      [0.025      0.975]\n",
            "------------------------------------------------------------------------------\n",
            "x1         -4.194e+04   3.34e+04     -1.257      0.213   -1.08e+05    2.45e+04\n",
            "x2           204.1738     28.086      7.270      0.000     148.224     260.124\n",
            "x3         -3.887e+04   4.32e+04     -0.899      0.372   -1.25e+05    4.73e+04\n",
            "==============================================================================\n",
            "Omnibus:                       12.954   Durbin-Watson:                   1.843\n",
            "Prob(Omnibus):                  0.002   Jarque-Bera (JB):               44.615\n",
            "Skew:                          -0.119   Prob(JB):                     2.05e-10\n",
            "Kurtosis:                       6.698   Cond. No.                     6.64e+03\n",
            "==============================================================================\n",
            "\n",
            "Notes:\n",
            "[1] R² is computed without centering (uncentered) since the model does not contain a constant.\n",
            "[2] Standard Errors assume that the covariance matrix of the errors is correctly specified.\n",
            "[3] The condition number is large, 6.64e+03. This might indicate that there are\n",
            "strong multicollinearity or other numerical problems.\n"
          ]
        }
      ]
    },
    {
      "cell_type": "code",
      "source": [
        "yest = results.predict(xt)\n",
        "yest"
      ],
      "metadata": {
        "colab": {
          "base_uri": "https://localhost:8080/",
          "height": 0
        },
        "id": "YeVCrGn45qyk",
        "outputId": "7790ef42-aa68-484e-d1f6-9c18e250cd53"
      },
      "execution_count": 280,
      "outputs": [
        {
          "output_type": "execute_result",
          "data": {
            "text/plain": [
              "array([ 469605.54963094,  982081.77107924,  441267.3920658 ,\n",
              "        600114.60333543,  461889.97190702, 1452625.21694796,\n",
              "        763163.41141561,  533145.59909837,  706975.67192527])"
            ]
          },
          "metadata": {},
          "execution_count": 280
        }
      ]
    },
    {
      "cell_type": "code",
      "source": [
        "# Shuffle your dataset \n",
        "shuffle_df2 = cate2.sample(frac=1)\n",
        "\n",
        "# Define a size for your train set \n",
        "train_size2 = int(0.9 * len(cate2))\n",
        "\n",
        "# Split your dataset \n",
        "train_datar2 = shuffle_df2[:train_size2]\n",
        "test_datar2 = shuffle_df2[train_size2:]"
      ],
      "metadata": {
        "id": "8KVFjjnx-BcW"
      },
      "execution_count": 286,
      "outputs": []
    },
    {
      "cell_type": "code",
      "source": [
        "train_datar2 = train_datar2.loc(axis=1)['sold_price','bedroomsl','sqrt_ft','bathroomsl']\n",
        "test_datar2 = test_datar2.loc(axis=1)['sold_price','bedroomsl','sqrt_ft','bathroomsl']"
      ],
      "metadata": {
        "id": "rbzqStogIsyQ"
      },
      "execution_count": 288,
      "outputs": []
    },
    {
      "cell_type": "code",
      "source": [
        "\n",
        "train_datar2 = train_datar2.to_numpy()\n",
        "test_datar2 = test_datar2.to_numpy()\n"
      ],
      "metadata": {
        "id": "kSRFoCb390xP"
      },
      "execution_count": 290,
      "outputs": []
    },
    {
      "cell_type": "code",
      "source": [
        "x2,y2 = train_datar2[:,1:],train_datar2[:,0]\n",
        "xt2, yt2 = test_datar2[:, 1:], test_datar2[:,0]"
      ],
      "metadata": {
        "id": "V7LpXm83Ef2K"
      },
      "execution_count": 291,
      "outputs": []
    },
    {
      "cell_type": "code",
      "source": [
        "x2.shape"
      ],
      "metadata": {
        "colab": {
          "base_uri": "https://localhost:8080/",
          "height": 0
        },
        "id": "whYNkhz6ENmC",
        "outputId": "3fa5e692-6b26-48ef-8d18-869eb8a3e223"
      },
      "execution_count": 230,
      "outputs": [
        {
          "output_type": "execute_result",
          "data": {
            "text/plain": [
              "(4115, 3)"
            ]
          },
          "metadata": {},
          "execution_count": 230
        }
      ]
    },
    {
      "cell_type": "code",
      "source": [
        "xt2.shape"
      ],
      "metadata": {
        "colab": {
          "base_uri": "https://localhost:8080/",
          "height": 0
        },
        "id": "C3TY2ih_FDFg",
        "outputId": "679842a0-d78a-4862-d9b0-1c57282ec9d6"
      },
      "execution_count": 231,
      "outputs": [
        {
          "output_type": "execute_result",
          "data": {
            "text/plain": [
              "(458, 3)"
            ]
          },
          "metadata": {},
          "execution_count": 231
        }
      ]
    },
    {
      "cell_type": "code",
      "source": [
        "model2 = sm.OLS(y2,x2)\n",
        "results2 = model2.fit()\n",
        "print(results2.summary())"
      ],
      "metadata": {
        "colab": {
          "base_uri": "https://localhost:8080/",
          "height": 0
        },
        "id": "apy9BPBO8yBn",
        "outputId": "72154f50-f436-467c-f580-d4f770740ee1"
      },
      "execution_count": 292,
      "outputs": [
        {
          "output_type": "stream",
          "name": "stdout",
          "text": [
            "                                 OLS Regression Results                                \n",
            "=======================================================================================\n",
            "Dep. Variable:                      y   R-squared (uncentered):                   0.924\n",
            "Model:                            OLS   Adj. R-squared (uncentered):              0.924\n",
            "Method:                 Least Squares   F-statistic:                          1.668e+04\n",
            "Date:                Tue, 30 Aug 2022   Prob (F-statistic):                        0.00\n",
            "Time:                        05:05:10   Log-Likelihood:                         -56507.\n",
            "No. Observations:                4115   AIC:                                  1.130e+05\n",
            "Df Residuals:                    4112   BIC:                                  1.130e+05\n",
            "Df Model:                           3                                                  \n",
            "Covariance Type:            nonrobust                                                  \n",
            "==============================================================================\n",
            "                 coef    std err          t      P>|t|      [0.025      0.975]\n",
            "------------------------------------------------------------------------------\n",
            "x1         -2.414e+04   3923.251     -6.153      0.000   -3.18e+04   -1.64e+04\n",
            "x2           186.2101      4.653     40.017      0.000     177.087     195.333\n",
            "x3          4.247e+04   4097.591     10.363      0.000    3.44e+04    5.05e+04\n",
            "==============================================================================\n",
            "Omnibus:                     2465.810   Durbin-Watson:                   2.001\n",
            "Prob(Omnibus):                  0.000   Jarque-Bera (JB):            77123.534\n",
            "Skew:                           2.318   Prob(JB):                         0.00\n",
            "Kurtosis:                      23.696   Cond. No.                     5.14e+03\n",
            "==============================================================================\n",
            "\n",
            "Notes:\n",
            "[1] R² is computed without centering (uncentered) since the model does not contain a constant.\n",
            "[2] Standard Errors assume that the covariance matrix of the errors is correctly specified.\n",
            "[3] The condition number is large, 5.14e+03. This might indicate that there are\n",
            "strong multicollinearity or other numerical problems.\n"
          ]
        }
      ]
    },
    {
      "cell_type": "code",
      "source": [
        "yest = results2.predict(xt2)"
      ],
      "metadata": {
        "id": "El_LNMbT9inI"
      },
      "execution_count": 293,
      "outputs": []
    },
    {
      "cell_type": "code",
      "source": [
        "# Shuffle your dataset \n",
        "shuffle_df3 = cate3.sample(frac=1)\n",
        "\n",
        "# Define a size for your train set \n",
        "train_size3 = int(0.9 * len(cate3))\n",
        "\n",
        "# Split your dataset \n",
        "train_datar3 = shuffle_df3[:train_size3]\n",
        "test_datar3 = shuffle_df3[train_size3:]"
      ],
      "metadata": {
        "id": "nhNiD5vv-8V3"
      },
      "execution_count": 176,
      "outputs": []
    },
    {
      "cell_type": "code",
      "source": [
        "train_datar3 = train_datar3.loc(axis=1)['sold_price','bedroomsl','sqrt_ft','bathroomsl']\n",
        "test_datar3 = test_datar3.loc(axis=1)['sold_price','bedroomsl','sqrt_ft','bathroomsl']\n",
        "train_datar3 = train_datar3.to_numpy()\n",
        "test_datar3 = test_datar3.to_numpy()\n",
        "x3,y3 = train_datar3[:,1:],train_datar3[:,0]\n",
        "xt3, yt3 = test_datar3[:,1:], test_datar3[:,0]"
      ],
      "metadata": {
        "id": "Ssh-iTQlAWRN"
      },
      "execution_count": 178,
      "outputs": []
    },
    {
      "cell_type": "code",
      "source": [
        "model3 = sm.OLS(y3,x3)\n",
        "results3 = model3.fit()\n",
        "print(results3.summary())"
      ],
      "metadata": {
        "colab": {
          "base_uri": "https://localhost:8080/",
          "height": 0
        },
        "id": "WumDE1HoArum",
        "outputId": "00303ba3-01d2-44cf-af32-9b2fb867c185"
      },
      "execution_count": 237,
      "outputs": [
        {
          "output_type": "stream",
          "name": "stdout",
          "text": [
            "                                 OLS Regression Results                                \n",
            "=======================================================================================\n",
            "Dep. Variable:                      y   R-squared (uncentered):                   0.949\n",
            "Model:                            OLS   Adj. R-squared (uncentered):              0.948\n",
            "Method:                 Least Squares   F-statistic:                              1138.\n",
            "Date:                Tue, 30 Aug 2022   Prob (F-statistic):                   1.67e-118\n",
            "Time:                        04:53:33   Log-Likelihood:                         -2575.3\n",
            "No. Observations:                 187   AIC:                                      5157.\n",
            "Df Residuals:                     184   BIC:                                      5166.\n",
            "Df Model:                           3                                                  \n",
            "Covariance Type:            nonrobust                                                  \n",
            "==============================================================================\n",
            "                 coef    std err          t      P>|t|      [0.025      0.975]\n",
            "------------------------------------------------------------------------------\n",
            "x1         -6750.7863   9454.243     -0.714      0.476   -2.54e+04    1.19e+04\n",
            "x2         -6750.7863   9454.243     -0.714      0.476   -2.54e+04    1.19e+04\n",
            "x3           234.8345     17.425     13.477      0.000     200.456     269.213\n",
            "x4          1.782e+04   1.18e+04      1.506      0.134   -5520.674    4.12e+04\n",
            "x5          1.782e+04   1.18e+04      1.506      0.134   -5520.674    4.12e+04\n",
            "==============================================================================\n",
            "Omnibus:                        8.385   Durbin-Watson:                   2.210\n",
            "Prob(Omnibus):                  0.015   Jarque-Bera (JB):               12.764\n",
            "Skew:                           0.230   Prob(JB):                      0.00169\n",
            "Kurtosis:                       4.194   Cond. No.                     2.37e+19\n",
            "==============================================================================\n",
            "\n",
            "Notes:\n",
            "[1] R² is computed without centering (uncentered) since the model does not contain a constant.\n",
            "[2] Standard Errors assume that the covariance matrix of the errors is correctly specified.\n",
            "[3] The smallest eigenvalue is 4.84e-30. This might indicate that there are\n",
            "strong multicollinearity problems or that the design matrix is singular.\n"
          ]
        }
      ]
    },
    {
      "cell_type": "code",
      "source": [
        "yest3 = results3.predict(xt3)"
      ],
      "metadata": {
        "id": "NALMJ9B6Avf5"
      },
      "execution_count": 239,
      "outputs": []
    },
    {
      "cell_type": "markdown",
      "source": [
        "###Live part"
      ],
      "metadata": {
        "id": "3dJe9j3GDGuP"
      }
    },
    {
      "cell_type": "code",
      "source": [
        "from geopy import Nominatim"
      ],
      "metadata": {
        "id": "O5KfTwvRA2-g"
      },
      "execution_count": 180,
      "outputs": []
    },
    {
      "cell_type": "code",
      "source": [
        "def coord(x):\n",
        "\n",
        "  geolocator = Nominatim(user_agent='TFClan')\n",
        "  location = geolocator.geocode(x)\n",
        "  return single_pt_haversine(location.latitude,location.longitude)"
      ],
      "metadata": {
        "id": "mC32xg1EA51V"
      },
      "execution_count": 299,
      "outputs": []
    },
    {
      "cell_type": "code",
      "source": [
        "coord(\"1202 E Irvington rd Tucson AZ\")"
      ],
      "metadata": {
        "colab": {
          "base_uri": "https://localhost:8080/",
          "height": 0
        },
        "id": "eHevoGAcBPrG",
        "outputId": "4890e2f5-f1e4-4d2e-a1aa-a9155920b792"
      },
      "execution_count": 300,
      "outputs": [
        {
          "output_type": "execute_result",
          "data": {
            "text/plain": [
              "11966.853401080774"
            ]
          },
          "metadata": {},
          "execution_count": 300
        }
      ]
    },
    {
      "cell_type": "code",
      "source": [
        "xas = [11966.853401080774]\n",
        "y_hatest = modelknn.predict(xas,15)\n",
        "y_hatest"
      ],
      "metadata": {
        "colab": {
          "base_uri": "https://localhost:8080/",
          "height": 0
        },
        "id": "cyDwj6E3Cb8L",
        "outputId": "653599d9-26f9-46ec-9bdb-03ec582a96d6"
      },
      "execution_count": 192,
      "outputs": [
        {
          "output_type": "execute_result",
          "data": {
            "text/plain": [
              "array([1.])"
            ]
          },
          "metadata": {},
          "execution_count": 192
        }
      ]
    },
    {
      "cell_type": "code",
      "source": [
        "xas = [6,4000,5]\n"
      ],
      "metadata": {
        "id": "yqxGs6rgDQJQ"
      },
      "execution_count": 297,
      "outputs": []
    },
    {
      "cell_type": "code",
      "source": [
        "yesti = results.predict(xas)\n",
        "yesti"
      ],
      "metadata": {
        "colab": {
          "base_uri": "https://localhost:8080/",
          "height": 0
        },
        "id": "EES0eUiaJESw",
        "outputId": "96e8acd9-dd35-40f9-8e7b-92a89347add7"
      },
      "execution_count": 298,
      "outputs": [
        {
          "output_type": "execute_result",
          "data": {
            "text/plain": [
              "array([370700.40747885])"
            ]
          },
          "metadata": {},
          "execution_count": 298
        }
      ]
    }
  ]
}